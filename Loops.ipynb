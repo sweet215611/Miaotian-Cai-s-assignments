{
  "nbformat": 4,
  "nbformat_minor": 0,
  "metadata": {
    "colab": {
      "provenance": [],
      "include_colab_link": true
    },
    "kernelspec": {
      "name": "python3",
      "display_name": "Python 3"
    },
    "language_info": {
      "name": "python"
    }
  },
  "cells": [
    {
      "cell_type": "markdown",
      "metadata": {
        "id": "view-in-github",
        "colab_type": "text"
      },
      "source": [
        "<a href=\"https://colab.research.google.com/github/sweet215611/Miaotian-Cai-s-assignments/blob/main/Loops.ipynb\" target=\"_parent\"><img src=\"https://colab.research.google.com/assets/colab-badge.svg\" alt=\"Open In Colab\"/></a>"
      ]
    },
    {
      "cell_type": "markdown",
      "source": [
        "# Loops in Python\n",
        "\n",
        "A sequence of instructions that repeats until a certain condition is met\n",
        "\n",
        "## Objective\n",
        "Understand how loops are applied\n",
        "\n",
        "## Prerequisite\n",
        "\n",
        "- Decision statements\n",
        "- Input functions\n",
        "- Python literals\n",
        "- Programming variables\n",
        "\n",
        "## What do you need to complete this exercise?\n",
        "\n",
        "You can perform this exercise in any Python IDE, including JupyterLab or Google Colab.\n"
      ],
      "metadata": {
        "id": "2ITy4ycVFXBq"
      }
    },
    {
      "cell_type": "markdown",
      "source": [
        "### While loop\n",
        "\n",
        "a. Please write Python code using a while loop to perform the following steps.\n",
        "\n",
        "1. Take any non-negative and non-zero integer number and name it ```n0```\n",
        "2. if the number is even, evaluate a new ```n0``` as ```n0 ÷ 2```;\n",
        "3. Otherwise, if the number is odd, evaluate a new ```n0``` as ```3 * n0 + 1```;\n",
        "4. if ```n0``` is not equal to 1, go to point 2.\n",
        "\n",
        "#### Sample input: ```16```\n",
        "\n",
        "#### Expected output: ###\n",
        "\n",
        "```\n",
        "8\n",
        "4\n",
        "2\n",
        "1\n",
        "steps = 4\n",
        "```"
      ],
      "metadata": {
        "id": "uQxH0KO0tsDc"
      }
    },
    {
      "cell_type": "code",
      "source": [
        "n0=int(input(\"Enter a number: \"))\n",
        "steps=0\n",
        "while n0!=1:\n",
        "    if n0%2==0:\n",
        "        n0=n0//2\n",
        "    else:\n",
        "        n0=3*n0+1\n",
        "    steps+=1\n",
        "    print(n0)\n",
        "print(\"steps =\",steps)\n",
        "\n"
      ],
      "metadata": {
        "id": "5M7ksW8xsC3k",
        "outputId": "e5ea5dc2-f3db-4a9c-b8c5-e4632ed7398d",
        "colab": {
          "base_uri": "https://localhost:8080/"
        }
      },
      "execution_count": 5,
      "outputs": [
        {
          "output_type": "stream",
          "name": "stdout",
          "text": [
            "Enter a number: 16\n",
            "8\n",
            "4\n",
            "2\n",
            "1\n",
            "steps = 4\n"
          ]
        }
      ]
    },
    {
      "cell_type": "markdown",
      "source": [
        "b. Write code that uses a while loop and runs indefinitely. Modify the same code to resolve the infinite loop issue."
      ],
      "metadata": {
        "id": "S3X6hdy5sI-s"
      }
    },
    {
      "cell_type": "code",
      "source": [
        "a=1\n",
        "while a>0:\n",
        "  a+=1\n",
        "  print(a)\n",
        "  if a>=100:\n",
        "    break\n",
        "  else:\n",
        "    continue"
      ],
      "metadata": {
        "id": "cs0pk1_qsNY0",
        "outputId": "fea53712-5270-4531-d16a-77447c7e626d",
        "colab": {
          "base_uri": "https://localhost:8080/"
        }
      },
      "execution_count": 11,
      "outputs": [
        {
          "output_type": "stream",
          "name": "stdout",
          "text": [
            "2\n",
            "3\n",
            "4\n",
            "5\n",
            "6\n",
            "7\n",
            "8\n",
            "9\n",
            "10\n",
            "11\n",
            "12\n",
            "13\n",
            "14\n",
            "15\n",
            "16\n",
            "17\n",
            "18\n",
            "19\n",
            "20\n",
            "21\n",
            "22\n",
            "23\n",
            "24\n",
            "25\n",
            "26\n",
            "27\n",
            "28\n",
            "29\n",
            "30\n",
            "31\n",
            "32\n",
            "33\n",
            "34\n",
            "35\n",
            "36\n",
            "37\n",
            "38\n",
            "39\n",
            "40\n",
            "41\n",
            "42\n",
            "43\n",
            "44\n",
            "45\n",
            "46\n",
            "47\n",
            "48\n",
            "49\n",
            "50\n",
            "51\n",
            "52\n",
            "53\n",
            "54\n",
            "55\n",
            "56\n",
            "57\n",
            "58\n",
            "59\n",
            "60\n",
            "61\n",
            "62\n",
            "63\n",
            "64\n",
            "65\n",
            "66\n",
            "67\n",
            "68\n",
            "69\n",
            "70\n",
            "71\n",
            "72\n",
            "73\n",
            "74\n",
            "75\n",
            "76\n",
            "77\n",
            "78\n",
            "79\n",
            "80\n",
            "81\n",
            "82\n",
            "83\n",
            "84\n",
            "85\n",
            "86\n",
            "87\n",
            "88\n",
            "89\n",
            "90\n",
            "91\n",
            "92\n",
            "93\n",
            "94\n",
            "95\n",
            "96\n",
            "97\n",
            "98\n",
            "99\n",
            "100\n"
          ]
        }
      ]
    },
    {
      "cell_type": "markdown",
      "source": [
        "c. Write a program that takes two integers as input and asks the user to choose an arithmetic operation to perform with those numbers. At the end of the program, prompt the user with the question, \"Do you want to continue?\" If the user selects \"Y\" or \"y,\" the program should restart; otherwise, it should exit and display the message, \"Have a good day.\""
      ],
      "metadata": {
        "id": "oxXvMBKNsX8M"
      }
    },
    {
      "cell_type": "code",
      "source": [
        "x = int(input(\"enter a number x\"))\n",
        "y = int(input(\"enter a number y\"))\n",
        "judge_it = True\n",
        "steps=1\n",
        "while judge_it==True:\n",
        "  zeur=(x+y)*steps\n",
        "  print(zeur)\n",
        "  print(\"Do you want to continue, type (y) or (n)\")\n",
        "  w_type=input()\n",
        "  if w_type == \"y\":\n",
        "    judge_it = True\n",
        "    steps+=1\n",
        "  else:\n",
        "    judge_it = False\n",
        "print(\"Have a good day.\")\n",
        "\n",
        "\n"
      ],
      "metadata": {
        "id": "w9Ai1I_JsYw9",
        "outputId": "a3963b38-e046-4bd0-ae1f-9386181ec2d8",
        "colab": {
          "base_uri": "https://localhost:8080/"
        }
      },
      "execution_count": 40,
      "outputs": [
        {
          "output_type": "stream",
          "name": "stdout",
          "text": [
            "enter a number x12\n",
            "enter a number y13\n",
            "25\n",
            "Do you want to continue, type (y) or (n)\n",
            "y\n",
            "50\n",
            "Do you want to continue, type (y) or (n)\n",
            "n\n",
            "Have a good day.\n"
          ]
        }
      ]
    },
    {
      "cell_type": "markdown",
      "source": [
        "### 2. For loops\n",
        "\n",
        "a. Write a code that counts the total number of characters in a text and also counts each character individually. For example, consider the sentence \"To be, or not to be, that is the question.\" The code should determine the total number of letters and how many times each letter appears, including specific counts for the letters 't' and 'o', etc. Ignore the upper and lower cases letters, and any punctuations symbols. Use only for loop, while loop, break and continue statements where necessary.\n",
        "\n",
        "#### Sample input: ```To be, or not to be, that is the question```\n",
        "\n",
        "#### Expected output: ###\n",
        "\n",
        "```\n",
        "Total number of alphabets: 30\n",
        "Total number of distinct alphabets are:\n",
        "T = 7\n",
        "o = 4\n",
        "```\n",
        "> **Note:** The expected output above is incomplete.\n"
      ],
      "metadata": {
        "id": "IeiOBf1Tse1c"
      }
    },
    {
      "cell_type": "code",
      "source": [
        "from collections import Counter\n",
        "text=\"I am learning Python this spring semester\"\n",
        "filtered_text=\"\".join(char.lower() for char in text if char.isalpha())\n",
        "total_letters=len(filtered_text)\n",
        "print(\"Total number of alphabets:\", total_letters)\n",
        "letter_counts=Counter(filtered_text)\n",
        "for letter, count in letter_counts.items():\n",
        "    print(f\"{letter} = {count}\")"
      ],
      "metadata": {
        "id": "FprfxHfksh2-",
        "outputId": "a3e3318a-d7e0-48f7-ea53-97df000eae32",
        "colab": {
          "base_uri": "https://localhost:8080/"
        }
      },
      "execution_count": 3,
      "outputs": [
        {
          "output_type": "stream",
          "name": "stdout",
          "text": [
            "Total number of alphabets: 35\n",
            "i = 4\n",
            "a = 2\n",
            "m = 2\n",
            "l = 1\n",
            "e = 4\n",
            "r = 3\n",
            "n = 4\n",
            "g = 2\n",
            "p = 2\n",
            "y = 1\n",
            "t = 3\n",
            "h = 2\n",
            "o = 1\n",
            "s = 4\n"
          ]
        }
      ]
    },
    {
      "cell_type": "markdown",
      "source": [
        "## Challenges\n",
        "\n",
        "Please describe the challenges you faced during the exercise."
      ],
      "metadata": {
        "id": "xQzjxKdvvbyo"
      }
    },
    {
      "cell_type": "markdown",
      "source": [
        "Write your challenges here"
      ],
      "metadata": {
        "id": "qfJNpTB5EbY4"
      }
    }
  ]
}
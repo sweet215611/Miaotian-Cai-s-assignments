{
  "nbformat": 4,
  "nbformat_minor": 0,
  "metadata": {
    "colab": {
      "provenance": [],
      "include_colab_link": true
    },
    "kernelspec": {
      "name": "python3",
      "display_name": "Python 3"
    },
    "language_info": {
      "name": "python"
    }
  },
  "cells": [
    {
      "cell_type": "markdown",
      "metadata": {
        "id": "view-in-github",
        "colab_type": "text"
      },
      "source": [
        "<a href=\"https://colab.research.google.com/github/sweet215611/Miaotian-Cai-s-assignments/blob/main/Copy_of_Your_very_first_Python_code.ipynb\" target=\"_parent\"><img src=\"https://colab.research.google.com/assets/colab-badge.svg\" alt=\"Open In Colab\"/></a>"
      ]
    },
    {
      "cell_type": "markdown",
      "source": [
        "# Your first python code\n",
        "\n",
        "## Objective\n",
        "Write your very first python code\n",
        "\n",
        "## Prerequisite\n",
        "\n",
        "- Your very first code `lecture`\n",
        "\n",
        "## What do you need to complete this exercise?\n",
        "\n",
        "You can perform this exercise in any Python IDE, including JupyterLab or Google Colab.\n"
      ],
      "metadata": {
        "id": "2ITy4ycVFXBq"
      }
    },
    {
      "cell_type": "markdown",
      "source": [
        "\n",
        "\n",
        "### Your first code\n",
        "\n",
        "a. Print the following statements using multiple ```print()``` statements\n",
        "```\n",
        "All the world's a stage,\n",
        "And all the men and women merely players:\n",
        "They have their exits and their entrances;\n",
        "And one man in his time plays many parts,\n",
        "His acts being seven ages.\n",
        "```\n",
        "\n"
      ],
      "metadata": {
        "id": "uQxH0KO0tsDc"
      }
    },
    {
      "cell_type": "code",
      "source": [
        "# write your code here\n",
        "print(\"All the world's a stage\")\n",
        "print(\"And all the men and women merely players:\")\n",
        "print(\"They have their exits and their entrances;\")\n",
        "print(\"And one man in his time plays many parts,\")\n",
        "print(\"His acts being seven ages.\")\n",
        "\n"
      ],
      "metadata": {
        "id": "tLQh-A7Kt70H",
        "colab": {
          "base_uri": "https://localhost:8080/"
        },
        "outputId": "f6b51a99-9998-4baf-cad6-c7722ee0efc9"
      },
      "execution_count": null,
      "outputs": [
        {
          "output_type": "stream",
          "name": "stdout",
          "text": [
            "All the world's a stage\n",
            "And all the men and women merely players:\n",
            "They have their exits and their entrances;\n",
            "And one man in his time plays many parts,\n",
            "His acts being seven ages.\n"
          ]
        }
      ]
    },
    {
      "cell_type": "markdown",
      "source": [
        "b. Print the above statements using a single ```print()``` statement"
      ],
      "metadata": {
        "id": "WjCVjgFuu2LR"
      }
    },
    {
      "cell_type": "code",
      "source": [
        "# Write your code here\n",
        "print(\"All the world's a stage\\nAnd all the men and women merely players:\\nThey have their exits and thir entrances;\\nAnd one man in his time plays many parts,\\nHis acts being seven ages.\")"
      ],
      "metadata": {
        "id": "Z3US7bf6u5lp",
        "outputId": "be8560c6-c3ba-4295-8871-5e24f78924ee",
        "colab": {
          "base_uri": "https://localhost:8080/"
        }
      },
      "execution_count": null,
      "outputs": [
        {
          "output_type": "stream",
          "name": "stdout",
          "text": [
            "All the world's a stage\n",
            "And all the men and women merely players:\n",
            "They have their exits and thir entrances;\n",
            "And one man in his time plays many parts,\n",
            "His acts being seven ages.\n"
          ]
        }
      ]
    },
    {
      "cell_type": "markdown",
      "source": [
        "c. Without coding, what is the output of the following statement:\n",
        "```print(\"127\",\"0\",\"0\",\"1\",sep=\".\")```"
      ],
      "metadata": {
        "id": "jGAy3_MlvONr"
      }
    },
    {
      "cell_type": "markdown",
      "source": [
        "Write your response here\n",
        "127.0.0.1\n"
      ],
      "metadata": {
        "id": "FrdFrBujEDB9"
      }
    },
    {
      "cell_type": "markdown",
      "source": [
        "d. Identify a situation where you have to print data with ```flush=True``` and ```flush=False```."
      ],
      "metadata": {
        "id": "ruYWccCbvTsi"
      }
    },
    {
      "cell_type": "markdown",
      "source": [
        "In some cases, we may want print()to display output immediately instead of waiting for the buffer to fill up. For example, in countdowns,using flush=True ensures that the output is instantly visible.\n",
        "Demo1.\n",
        "import time\n",
        "for i in range(1,5):\n",
        "  print(i, end=\"\",flush=False)\n",
        "  time. sleep(1)\n",
        "Effect:The numbers 1234 may only appear all at once after loop finishes.\n",
        "Demo2.\n",
        "for i in range(1,5):\n",
        "  print(i,end=\"\", flush= True)\n",
        "  time. sleep（1）\n",
        "Effect:Each number 1234 is printed immediately every second instead if waiting for the loop to finish."
      ],
      "metadata": {
        "id": "28PdaQxRDc0H"
      }
    },
    {
      "cell_type": "markdown",
      "source": [
        "## Challenges\n",
        "\n",
        "Please describe the challenges you faced during the exercise."
      ],
      "metadata": {
        "id": "xQzjxKdvvbyo"
      }
    },
    {
      "cell_type": "markdown",
      "source": [
        "It's so interesting! So far, I have understood everything. Using simple code to solve complex problems is amazing, and the more learn, the more fun it gets. Thank you Dr.Danish Khan, for guiding me!\n",
        "\n"
      ],
      "metadata": {
        "id": "qfJNpTB5EbY4"
      }
    }
  ]
}
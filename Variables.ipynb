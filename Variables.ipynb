{
  "nbformat": 4,
  "nbformat_minor": 0,
  "metadata": {
    "colab": {
      "provenance": [],
      "include_colab_link": true
    },
    "kernelspec": {
      "name": "python3",
      "display_name": "Python 3"
    },
    "language_info": {
      "name": "python"
    }
  },
  "cells": [
    {
      "cell_type": "markdown",
      "metadata": {
        "id": "view-in-github",
        "colab_type": "text"
      },
      "source": [
        "<a href=\"https://colab.research.google.com/github/sweet215611/Miaotian-Cai-s-assignments/blob/main/Variables.ipynb\" target=\"_parent\"><img src=\"https://colab.research.google.com/assets/colab-badge.svg\" alt=\"Open In Colab\"/></a>"
      ]
    },
    {
      "cell_type": "markdown",
      "source": [
        "# Python variables\n",
        "\n",
        "Variables are human-friendly names of memory locations\n",
        "\n",
        "## Objective\n",
        "1. Understand how to define variables in Python.\n",
        "2. Gain a clear understanding of how the Python interpreter allocates memory addresses to variables.\n",
        "3. Skilled in troubleshooting techniques.\n",
        "\n",
        "## Prerequisite\n",
        "\n",
        "- Python literals lecture & lab\n",
        "- Programming variables lecture\n",
        "\n",
        "## What do you need to complete this exercise?\n",
        "\n",
        "You can perform this exercise in any Python IDE, including JupyterLab or Google Colab.\n"
      ],
      "metadata": {
        "id": "2ITy4ycVFXBq"
      }
    },
    {
      "cell_type": "markdown",
      "source": [
        "### Variable definition\n",
        "\n",
        "No need to declare the variable data type; variables can be assigned values or strings as needed."
      ],
      "metadata": {
        "id": "uQxH0KO0tsDc"
      }
    },
    {
      "cell_type": "code",
      "source": [
        "var1 = 10 # integer\n",
        "print(type(var1)) # var1 holds integer data type\n",
        "var2 = 100.0 # float\n",
        "print(type(var2))  # var2 holds float data type\n",
        "print(var1 * var2)  # var1 * var2 - float data type\n",
        "str1 = \"Hello World\"\n",
        "type(str1)\n",
        "print(str1)\n",
        "str2 = 'Single quote can also be used'\n",
        "type(str2)\n",
        "print(str2)\n",
        "var1 = \"Now I am a string data type\"\n",
        "del(var1) # delete the var1"
      ],
      "metadata": {
        "colab": {
          "base_uri": "https://localhost:8080/"
        },
        "id": "6RKggasqIqbr",
        "outputId": "e592377f-9af5-4372-a28d-cec18af588d2"
      },
      "execution_count": null,
      "outputs": [
        {
          "output_type": "stream",
          "name": "stdout",
          "text": [
            "<class 'int'>\n",
            "<class 'float'>\n",
            "1000.0\n",
            "Hello World\n",
            "Single quote can also be used\n"
          ]
        }
      ]
    },
    {
      "cell_type": "markdown",
      "source": [
        "### Variable memory usage\n"
      ],
      "metadata": {
        "id": "58GMVBXqKY89"
      }
    },
    {
      "cell_type": "code",
      "source": [
        "var1 = 10"
      ],
      "metadata": {
        "id": "nG3zhLAuJOdz"
      },
      "execution_count": 47,
      "outputs": []
    },
    {
      "cell_type": "code",
      "source": [
        "# Check the memory address of var1 by using the following statement\n",
        "print(hex(id(var1)))"
      ],
      "metadata": {
        "id": "mjwxa33VJVix",
        "outputId": "49ec5cfd-be6f-45da-da8b-98e716b197f6",
        "colab": {
          "base_uri": "https://localhost:8080/"
        }
      },
      "execution_count": 48,
      "outputs": [
        {
          "output_type": "stream",
          "name": "stdout",
          "text": [
            "0xa40ca8\n"
          ]
        }
      ]
    },
    {
      "cell_type": "code",
      "source": [
        "var1 = 100\n",
        "# Check the memory address of var1 again"
      ],
      "metadata": {
        "id": "rQqjsX6pJafY"
      },
      "execution_count": 49,
      "outputs": []
    },
    {
      "cell_type": "code",
      "source": [
        "print(hex(id(var1)))"
      ],
      "metadata": {
        "id": "bXIAgWixJ97B",
        "outputId": "207142a6-0c3f-4aaf-e635-82c3e4b9f70d",
        "colab": {
          "base_uri": "https://localhost:8080/"
        }
      },
      "execution_count": 50,
      "outputs": [
        {
          "output_type": "stream",
          "name": "stdout",
          "text": [
            "0xa417e8\n"
          ]
        }
      ]
    },
    {
      "cell_type": "markdown",
      "source": [
        "You should see two distinct addresses for var1. Explain why there are two different addresses and what happened to the first one."
      ],
      "metadata": {
        "id": "JrodhFbkJewA"
      }
    },
    {
      "cell_type": "code",
      "source": [
        "var2 = 100\n",
        "# Write your print statement\n",
        "print(hex(id(var2)))\n",
        "# Check the memory address of var2. Did the Python interpreter assign a new memory address or reuse the existing one?\n",
        "# It used the exiting one"
      ],
      "metadata": {
        "id": "sWuIw2guJ1wK",
        "outputId": "ec950f51-27ca-4dd9-ced8-96856dfca804",
        "colab": {
          "base_uri": "https://localhost:8080/"
        }
      },
      "execution_count": 54,
      "outputs": [
        {
          "output_type": "stream",
          "name": "stdout",
          "text": [
            "0xa417e8\n"
          ]
        }
      ]
    },
    {
      "cell_type": "code",
      "source": [
        "var2=100"
      ],
      "metadata": {
        "id": "rOt7-7eLKFl_"
      },
      "execution_count": 56,
      "outputs": []
    },
    {
      "cell_type": "code",
      "source": [
        "print(hex(id(var2)))"
      ],
      "metadata": {
        "id": "F48RnbBVJgOt",
        "outputId": "dc9e725e-b22d-4d4c-b747-24672baa01c8",
        "colab": {
          "base_uri": "https://localhost:8080/"
        }
      },
      "execution_count": 57,
      "outputs": [
        {
          "output_type": "stream",
          "name": "stdout",
          "text": [
            "0xa417e8\n"
          ]
        }
      ]
    },
    {
      "cell_type": "markdown",
      "source": [
        "### Memory map"
      ],
      "metadata": {
        "id": "WpQLLdj7Lr4K"
      }
    },
    {
      "cell_type": "code",
      "source": [
        "str1 = \"Hello\"\n",
        "str2 = \"World\""
      ],
      "metadata": {
        "id": "tecKbG6eKOo1"
      },
      "execution_count": 58,
      "outputs": []
    },
    {
      "cell_type": "code",
      "source": [
        "# Find out the memory addresses of each character in str1 and str2.\n",
        "# The following is the example"
      ],
      "metadata": {
        "id": "KOrIVOosKUWD"
      },
      "execution_count": 13,
      "outputs": []
    },
    {
      "cell_type": "code",
      "source": [
        "print(hex(id(str1[0])), hex(id(str1[1])))  # where 0 is the first index and 1 is the second index\n",
        "# Use the same method as described above to find the addresses of additional characters and complete the table below."
      ],
      "metadata": {
        "id": "egL18fPSKXfz",
        "outputId": "06a1df35-6f79-477f-f8f8-37ebcdbe88ed",
        "colab": {
          "base_uri": "https://localhost:8080/"
        }
      },
      "execution_count": 60,
      "outputs": [
        {
          "output_type": "stream",
          "name": "stdout",
          "text": [
            "0xa4b9e8 0xa4c040\n"
          ]
        }
      ]
    },
    {
      "cell_type": "code",
      "source": [
        "print(hex(id(str1[0])), hex(id(str1[1])), hex(id(str1[2])), hex(id(str1[3])), hex(id(str1[4])))"
      ],
      "metadata": {
        "id": "V66ufDnSMntz",
        "outputId": "d273b7bb-750a-4a7f-910a-b698d5be876e",
        "colab": {
          "base_uri": "https://localhost:8080/"
        }
      },
      "execution_count": 61,
      "outputs": [
        {
          "output_type": "stream",
          "name": "stdout",
          "text": [
            "0xa4b9e8 0xa4c040 0xa4c1c8 0xa4c1c8 0xa4c270\n"
          ]
        }
      ]
    },
    {
      "cell_type": "code",
      "source": [
        "print(hex(id(str2[0])), hex(id(str2[1])), hex(id(str2[2])), hex(id(str2[3])), hex(id(str2[4])))"
      ],
      "metadata": {
        "id": "kyHcn_CMNIvB",
        "outputId": "c298a155-ed07-4487-86f4-e17a339862eb",
        "colab": {
          "base_uri": "https://localhost:8080/"
        }
      },
      "execution_count": 62,
      "outputs": [
        {
          "output_type": "stream",
          "name": "stdout",
          "text": [
            "0xa4bd30 0xa4c270 0xa4c318 0xa4c1c8 0xa4c008\n"
          ]
        }
      ]
    },
    {
      "cell_type": "markdown",
      "source": [
        "| Address in hexadecimal | Char |\n",
        "| ---------------------- | ---- |\n",
        "| # **bold text**        |      |\n",
        "| # 0xa4c1c8             |l     |\n",
        "| # 0xa4c1c8             |l     |\n",
        "| # 0xa4c270             |o     |\n",
        "| # 0xa4bd30             |w     |\n",
        "| # 0xa4c270             |o      |\n",
        "| # 0xa4c318             |r     |\n",
        "| # 0xa4c1c8             |l      |\n",
        "| # 0xa4c008             |d     |\n",
        "| #                      |      |"
      ],
      "metadata": {
        "id": "-mBS7AwtKclS"
      }
    },
    {
      "cell_type": "markdown",
      "source": [
        "### Problem-solving\n",
        "\n",
        " Let the variable ```x``` be ```dog``` and the variable ```y``` be ```cat```. Write the values returned by the following operations: **Try solving without writing in Python.**  \n",
        "-  x + y  \n",
        "-  \"the \" + x + \" chases the \" + y  \n",
        "-  x * 4  "
      ],
      "metadata": {
        "id": "rTf_jwaTMyEu"
      }
    },
    {
      "cell_type": "markdown",
      "source": [
        "dogcat\n",
        "\n",
        "the dog chase the cat\n",
        "\n",
        "dogdogdogdog"
      ],
      "metadata": {
        "id": "cZo5BEsJM7qC"
      }
    },
    {
      "cell_type": "markdown",
      "source": [
        "If ```x = 50```. Use an assignment statement to increment the value of ```x``` by 1.  "
      ],
      "metadata": {
        "id": "oFpYtt5KNCjK"
      }
    },
    {
      "cell_type": "code",
      "source": [
        "x=50\n",
        "x+=1\n",
        "print(x)\n"
      ],
      "metadata": {
        "colab": {
          "base_uri": "https://localhost:8080/"
        },
        "id": "NRacUzwmQdjx",
        "outputId": "0bfbd9a6-0c4f-4297-9407-08a853ecbe0b"
      },
      "execution_count": 90,
      "outputs": [
        {
          "output_type": "stream",
          "name": "stdout",
          "text": [
            "51\n"
          ]
        }
      ]
    },
    {
      "cell_type": "markdown",
      "source": [
        "### Troubleshooting\n",
        "\n",
        "Please troubleshoot the following issue **without using Python**, and explain your reasoning.\n",
        "\n",
        "a. ```hello = \"hello\"```  \n",
        "b. ```_var = 100```  \n",
        "c. ```!var_1 = 200```  \n",
        "d. ```print = \"print me\"```  \n",
        "e. ```False = 0```  "
      ],
      "metadata": {
        "id": "V0l5fqK-NJ2n"
      }
    },
    {
      "cell_type": "markdown",
      "source": [
        "a.right\n",
        "\n",
        "b.right\n",
        "\n",
        "c.can't use ! in variable\n",
        "\n",
        "var_1=200\n",
        "\n",
        "d.cant't use print as veriable\n",
        "\n",
        "my_print=print me\n",
        "\n",
        "e.can't use False as veriable\n",
        "\n",
        "value=0"
      ],
      "metadata": {
        "id": "Cz8CqobPNO8n"
      }
    },
    {
      "cell_type": "markdown",
      "source": [
        "## Challenges\n",
        "\n",
        "Please describe the challenges you faced during the exercise."
      ],
      "metadata": {
        "id": "xQzjxKdvvbyo"
      }
    },
    {
      "cell_type": "markdown",
      "source": [
        "Write your challenges here"
      ],
      "metadata": {
        "id": "qfJNpTB5EbY4"
      }
    }
  ]
}
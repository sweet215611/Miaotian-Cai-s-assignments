{
  "nbformat": 4,
  "nbformat_minor": 0,
  "metadata": {
    "colab": {
      "provenance": [],
      "include_colab_link": true
    },
    "kernelspec": {
      "name": "python3",
      "display_name": "Python 3"
    },
    "language_info": {
      "name": "python"
    }
  },
  "cells": [
    {
      "cell_type": "markdown",
      "metadata": {
        "id": "view-in-github",
        "colab_type": "text"
      },
      "source": [
        "<a href=\"https://colab.research.google.com/github/sweet215611/Miaotian-Cai-s-assignments/blob/main/Functions.ipynb\" target=\"_parent\"><img src=\"https://colab.research.google.com/assets/colab-badge.svg\" alt=\"Open In Colab\"/></a>"
      ]
    },
    {
      "cell_type": "markdown",
      "source": [
        "# Functions in Python\n",
        "Functions are designed to perform the same task repeatedly. For the user, they operate like a black box, with no visibility into how the function is implemented. Users provide compatible arguments to the function, or in some cases, no arguments at all, and the function executes according to the programmer's implementation.\n",
        "\n",
        "## Objective\n",
        "- Understand how arguments are used in functions\n",
        "- Function variables visibility and global variables\n",
        "- Troubleshoot functions\n",
        "\n",
        "## Prerequisite\n",
        "\n",
        "- Lists & tuples\n",
        "- Decision and loops\n",
        "\n",
        "\n",
        "## What do you need to complete this exercise?\n",
        "\n",
        "You can perform this exercise in any Python IDE, including JupyterLab or Google Colab.\n"
      ],
      "metadata": {
        "id": "2ITy4ycVFXBq"
      }
    },
    {
      "cell_type": "markdown",
      "source": [
        "# Create a unit conversion program using functions\n",
        "1a. The user selects kilometers per liter (kpl), and the response will be provided in miles per gallon (mpg). The units must be interchangeable, so the program will ask the user whether to convert from kpl to mpg or vice versa.\n",
        "\n",
        "The program will prompt the user for input and deliver output with the appropriate units.\n",
        "\n",
        "Additionally, the program will include input validation. For example, it will not accept letter inputs and will provide an error message to the user when invalid input is detected.\n",
        "\n",
        "The function will also allow multiple arguments, enabling the user to convert multiple values at once.\n",
        "\n",
        "Research and find out the conversion factor between the units."
      ],
      "metadata": {
        "id": "uQxH0KO0tsDc"
      }
    },
    {
      "cell_type": "code",
      "source": [
        "def convert_fuel_efficiency():\n",
        "    conversion_factor_kpl_to_mpg = 2.35215\n",
        "    conversion_factor_mpg_to_kpl = 0.42514\n",
        "\n",
        "    while True:\n",
        "        conversion_type = input(\"Enter '1' to convert from kpl to mpg or '2' to convert from mpg to kpl: \").strip()\n",
        "\n",
        "        if conversion_type not in ['1', '2']:\n",
        "            print(\"Invalid choice. Please enter '1' or '2'.\")\n",
        "            continue\n",
        "\n",
        "        values = input(\"Enter values to convert (separated by spaces): \").strip().split()\n",
        "\n",
        "        try:\n",
        "            values = [float(value) for value in values]\n",
        "        except ValueError:\n",
        "            print(\"Invalid input. Please enter only numerical values.\")\n",
        "            continue\n",
        "\n",
        "        if conversion_type == '1':\n",
        "            converted_values = [round(value * conversion_factor_kpl_to_mpg, 2) for value in values]\n",
        "            unit_from, unit_to = \"kpl\", \"mpg\"\n",
        "        else:\n",
        "            converted_values = [round(value * conversion_factor_mpg_to_kpl, 2) for value in values]\n",
        "            unit_from, unit_to = \"mpg\", \"kpl\"\n",
        "\n",
        "        print(\"Conversion Results:\")\n",
        "        for original, converted in zip(values, converted_values):\n",
        "            print(f\"{original} {unit_from} = {converted} {unit_to}\")\n",
        "\n",
        "        again = input(\"Would you like to convert more values? (yes/no): \").strip().lower()\n",
        "        if again != 'yes':\n",
        "            print(\"Goodbye!\")\n",
        "            break\n",
        "\n",
        "\n",
        "convert_fuel_efficiency()\n"
      ],
      "metadata": {
        "id": "rRTflD1C9mjt",
        "outputId": "7810ab4f-031d-4f50-b4d9-3232b507bd67",
        "colab": {
          "base_uri": "https://localhost:8080/"
        }
      },
      "execution_count": 49,
      "outputs": [
        {
          "output_type": "stream",
          "name": "stdout",
          "text": [
            "Enter '1' to convert from kpl to mpg or '2' to convert from mpg to kpl: 1\n",
            "Enter values to convert (separated by spaces): 20 30\n",
            "Conversion Results:\n",
            "20.0 kpl = 47.04 mpg\n",
            "30.0 kpl = 70.56 mpg\n",
            "Would you like to convert more values? (yes/no): no\n",
            "Goodbye!\n"
          ]
        }
      ]
    },
    {
      "cell_type": "markdown",
      "source": [
        "1b. How would you write a function that could take any number of unnamed arguments and print their values out in reverse order?\n"
      ],
      "metadata": {
        "id": "0jkTuRdlA6sk"
      }
    },
    {
      "cell_type": "code",
      "source": [
        "def print_reverse(*args):\n",
        "    for value in reversed(args):\n",
        "        print(value)\n",
        "print_reverse(1, 2, 3, 4, 5)\n",
        "\n",
        "\n"
      ],
      "metadata": {
        "id": "kOtPO3Gpo8b7",
        "outputId": "df9066ee-80af-48fc-8702-96296269507e",
        "colab": {
          "base_uri": "https://localhost:8080/"
        }
      },
      "execution_count": 45,
      "outputs": [
        {
          "output_type": "stream",
          "name": "stdout",
          "text": [
            "5\n",
            "4\n",
            "3\n",
            "2\n",
            "1\n"
          ]
        }
      ]
    },
    {
      "cell_type": "markdown",
      "source": [
        "1c. What would be the result of changing a list or dictionary that was passed into a function as a parameter value? Which operations would be likely to create changes that would be visible outside the function? What steps might you take to minimize that risk?\n",
        "\n",
        "Explain the above statements with the help of code."
      ],
      "metadata": {
        "id": "sL7k6J70zdzH"
      }
    },
    {
      "cell_type": "code",
      "source": [
        "def modify_list(lst):\n",
        "    lst.append(100)\n",
        "    lst[0] = 999\n",
        "my_list = [1, 2, 3]\n",
        "modify_list(my_list)\n",
        "print(my_list)\n"
      ],
      "metadata": {
        "id": "8ZIVOfAMQt2Z",
        "outputId": "3ecd24e9-f5f0-4c0e-8012-85eb77e6390b",
        "colab": {
          "base_uri": "https://localhost:8080/"
        }
      },
      "execution_count": 46,
      "outputs": [
        {
          "output_type": "stream",
          "name": "stdout",
          "text": [
            "[999, 2, 3, 100]\n"
          ]
        }
      ]
    },
    {
      "cell_type": "markdown",
      "source": [
        " Output: [999, 2, 3, 100]  -> Changes persist outside the function\n"
      ],
      "metadata": {
        "id": "pw9J0_tqpyiA"
      }
    },
    {
      "cell_type": "code",
      "source": [
        "def modify_dict(d):\n",
        "    d[\"new_key\"] = \"new_value\"\n",
        "    d[\"existing_key\"] = \"modified\"\n",
        "my_dict = {\"existing_key\": \"original\"}\n",
        "modify_dict(my_dict)\n",
        "print(my_dict)"
      ],
      "metadata": {
        "id": "F7DV7IdUp5hz",
        "outputId": "b04d2e6c-6511-4cb3-fb75-02dd200c806b",
        "colab": {
          "base_uri": "https://localhost:8080/"
        }
      },
      "execution_count": 47,
      "outputs": [
        {
          "output_type": "stream",
          "name": "stdout",
          "text": [
            "{'existing_key': 'modified', 'new_key': 'new_value'}\n"
          ]
        }
      ]
    },
    {
      "cell_type": "markdown",
      "source": [
        "The function adds a new key and modifies an existing key-value pair."
      ],
      "metadata": {
        "id": "TMxnEPgAqq3N"
      }
    },
    {
      "cell_type": "code",
      "source": [
        "import copy\n",
        "\n",
        "def modify_list_safe(lst):\n",
        "    lst_copy = lst.copy()\n",
        "    lst_copy.append(100)\n",
        "    return lst_copy\n",
        "\n",
        "original_list = [1, 2, 3]\n",
        "new_list = modify_list_safe(original_list)\n",
        "\n",
        "print(\"Original List:\", original_list)\n",
        "print(\"New List:\", new_list)"
      ],
      "metadata": {
        "id": "2qwTZSA1q10e",
        "outputId": "022cc0b2-cbda-417e-bc21-96d5fec3b900",
        "colab": {
          "base_uri": "https://localhost:8080/"
        }
      },
      "execution_count": 54,
      "outputs": [
        {
          "output_type": "stream",
          "name": "stdout",
          "text": [
            "Original List: [1, 2, 3]\n",
            "New List: [1, 2, 3, 100]\n"
          ]
        }
      ]
    },
    {
      "cell_type": "markdown",
      "source": [
        "The function creates a copy of the list before modifying it.\n",
        "The original list remains unchanged.\n"
      ],
      "metadata": {
        "id": "v7GItgYsrJy1"
      }
    },
    {
      "cell_type": "markdown",
      "source": [
        "1d. Assuming that ```x = 5```, what will be the value of ```x``` after ```funct_1()``` below executes? After ```funct_2()``` executes?\n"
      ],
      "metadata": {
        "id": "1wWF-wZx2h9s"
      }
    },
    {
      "cell_type": "code",
      "source": [
        "x = 5\n",
        "def funct_1():\n",
        "  x=3\n",
        "\n",
        "def funct_2():\n",
        "  global x\n",
        "  x=2"
      ],
      "metadata": {
        "id": "nvd-xB2v3AYh"
      },
      "execution_count": null,
      "outputs": []
    },
    {
      "cell_type": "code",
      "source": [
        "x = 5\n",
        "\n",
        "def funct_1():\n",
        "    x = 3\n",
        "def funct_2():\n",
        "    global x\n",
        "    x = 2\n",
        "\n",
        "print(f\"Initial global x: {x}\")\n",
        "funct_1()\n",
        "print(f\"Global x after funct_1(): {x}\")\n",
        "funct_2()\n",
        "print(f\"Global x after funct_2(): {x}\")"
      ],
      "metadata": {
        "id": "AxoCcnlKrzQo",
        "outputId": "d73b2048-efde-4f40-d340-c9b6a508c0f4",
        "colab": {
          "base_uri": "https://localhost:8080/"
        }
      },
      "execution_count": 59,
      "outputs": [
        {
          "output_type": "stream",
          "name": "stdout",
          "text": [
            "Initial global x: 5\n",
            "Global x after funct_1(): 5\n",
            "Global x after funct_2(): 2\n"
          ]
        }
      ]
    },
    {
      "cell_type": "markdown",
      "source": [
        "Assigning a value to a variable inside a function creates a local variable by default.\n",
        "To modify a global variable inside a function, declare it as global within that function."
      ],
      "metadata": {
        "id": "Z0zZyScDsBri"
      }
    },
    {
      "cell_type": "markdown",
      "source": [
        "# 2. Troubleshooting"
      ],
      "metadata": {
        "id": "tJlIQIYjBPLX"
      }
    },
    {
      "cell_type": "markdown",
      "source": [
        "Correct the following code. There might be more than one correct answers. Explain your reasoning."
      ],
      "metadata": {
        "id": "V8HkUVFy6DlD"
      }
    },
    {
      "cell_type": "code",
      "source": [
        "def my_func(a,b,**c):\n",
        "  print(c)\n",
        "\n",
        "my_func(1,2,3,4,5,6)"
      ],
      "metadata": {
        "id": "bJzMzbxIsAU9",
        "colab": {
          "base_uri": "https://localhost:8080/",
          "height": 176
        },
        "outputId": "067ebcca-548e-4824-d4d3-a37c9ffd6a05"
      },
      "execution_count": 56,
      "outputs": [
        {
          "output_type": "error",
          "ename": "TypeError",
          "evalue": "my_func() takes 2 positional arguments but 6 were given",
          "traceback": [
            "\u001b[0;31m---------------------------------------------------------------------------\u001b[0m",
            "\u001b[0;31mTypeError\u001b[0m                                 Traceback (most recent call last)",
            "\u001b[0;32m<ipython-input-56-ab5e2798406c>\u001b[0m in \u001b[0;36m<cell line: 0>\u001b[0;34m()\u001b[0m\n\u001b[1;32m      2\u001b[0m   \u001b[0mprint\u001b[0m\u001b[0;34m(\u001b[0m\u001b[0mc\u001b[0m\u001b[0;34m)\u001b[0m\u001b[0;34m\u001b[0m\u001b[0;34m\u001b[0m\u001b[0m\n\u001b[1;32m      3\u001b[0m \u001b[0;34m\u001b[0m\u001b[0m\n\u001b[0;32m----> 4\u001b[0;31m \u001b[0mmy_func\u001b[0m\u001b[0;34m(\u001b[0m\u001b[0;36m1\u001b[0m\u001b[0;34m,\u001b[0m\u001b[0;36m2\u001b[0m\u001b[0;34m,\u001b[0m\u001b[0;36m3\u001b[0m\u001b[0;34m,\u001b[0m\u001b[0;36m4\u001b[0m\u001b[0;34m,\u001b[0m\u001b[0;36m5\u001b[0m\u001b[0;34m,\u001b[0m\u001b[0;36m6\u001b[0m\u001b[0;34m)\u001b[0m\u001b[0;34m\u001b[0m\u001b[0;34m\u001b[0m\u001b[0m\n\u001b[0m",
            "\u001b[0;31mTypeError\u001b[0m: my_func() takes 2 positional arguments but 6 were given"
          ]
        }
      ]
    },
    {
      "cell_type": "code",
      "source": [
        "def my_func(a, b, *args, **kwargs):\n",
        "    print(\"Positional arguments (*args):\", args)\n",
        "    print(\"Keyword arguments (**kwargs):\", kwargs)\n",
        "\n",
        "my_func(1, 2, 3, 4, 5, 6)\n"
      ],
      "metadata": {
        "id": "6NANFHONwX2T",
        "outputId": "6538b2b7-91cd-46f4-ecc2-c26755a03c0e",
        "colab": {
          "base_uri": "https://localhost:8080/"
        }
      },
      "execution_count": 51,
      "outputs": [
        {
          "output_type": "stream",
          "name": "stdout",
          "text": [
            "Positional arguments (*args): (3, 4, 5, 6)\n",
            "Keyword arguments (**kwargs): {}\n"
          ]
        }
      ]
    },
    {
      "cell_type": "markdown",
      "source": [
        "The provided code defines a function my_func that accepts two positional arguments (a and b) and an arbitrary number of keyword arguments (**c). However, the function call my_func(1, 2, 3, 4, 5, 6) passes six positional arguments, leading to a TypeError because the function is designed to accept only two positional arguments."
      ],
      "metadata": {
        "id": "2iDtEUTgv-Jk"
      }
    },
    {
      "cell_type": "markdown",
      "source": [
        "Using the following code, x should print 100 but it prints 10, why?"
      ],
      "metadata": {
        "id": "sYDRYXa9vbX4"
      }
    },
    {
      "cell_type": "code",
      "source": [
        "def my_func_global():\n",
        "  x = 100\n",
        "\n",
        "global x\n",
        "x = 10\n",
        "my_func_global()\n",
        "print(x)"
      ],
      "metadata": {
        "id": "w93b1OeVNYuf",
        "colab": {
          "base_uri": "https://localhost:8080/"
        },
        "outputId": "ad4adc6e-02ee-43bd-f888-6614a9f95938"
      },
      "execution_count": 52,
      "outputs": [
        {
          "output_type": "stream",
          "name": "stdout",
          "text": [
            "10\n"
          ]
        }
      ]
    },
    {
      "cell_type": "code",
      "source": [
        "def my_func_global():\n",
        "    global x\n",
        "    x = 100\n",
        "\n",
        "x = 10\n",
        "my_func_global()\n",
        "print(x)\n"
      ],
      "metadata": {
        "id": "TKnwUoGdxBnP",
        "outputId": "cde1aa16-04ba-4580-cf66-978a6c045c26",
        "colab": {
          "base_uri": "https://localhost:8080/"
        }
      },
      "execution_count": 58,
      "outputs": [
        {
          "output_type": "stream",
          "name": "stdout",
          "text": [
            "100\n"
          ]
        }
      ]
    },
    {
      "cell_type": "markdown",
      "source": [
        "The variable x is defined globally with the value 10. Within the function my_func_global, a new variable x is assigned the value 100. However, this x is local to the function and does not affect the global x. Therefore, when print(x) is called outside the function, it outputs the global x, which remains 10.If you intend to modify the global variable x within the function, you should declare it as global inside the function.By adding global x inside the function, you inform Python that x refers to the global variable, allowing the function to modify its value."
      ],
      "metadata": {
        "id": "6sSuzTUkxFxt"
      }
    },
    {
      "cell_type": "markdown",
      "source": [
        "## Challenges\n",
        "\n",
        "Please describe the challenges you faced during the exercise."
      ],
      "metadata": {
        "id": "xQzjxKdvvbyo"
      }
    },
    {
      "cell_type": "markdown",
      "source": [
        "Write your challenges here"
      ],
      "metadata": {
        "id": "qfJNpTB5EbY4"
      }
    }
  ]
}
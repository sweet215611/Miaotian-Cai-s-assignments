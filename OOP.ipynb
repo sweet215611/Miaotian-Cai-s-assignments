{
  "nbformat": 4,
  "nbformat_minor": 0,
  "metadata": {
    "colab": {
      "provenance": [],
      "include_colab_link": true
    },
    "kernelspec": {
      "name": "python3",
      "display_name": "Python 3"
    },
    "language_info": {
      "name": "python"
    }
  },
  "cells": [
    {
      "cell_type": "markdown",
      "metadata": {
        "id": "view-in-github",
        "colab_type": "text"
      },
      "source": [
        "<a href=\"https://colab.research.google.com/github/sweet215611/Miaotian-Cai-s-assignments/blob/main/OOP.ipynb\" target=\"_parent\"><img src=\"https://colab.research.google.com/assets/colab-badge.svg\" alt=\"Open In Colab\"/></a>"
      ]
    },
    {
      "cell_type": "markdown",
      "source": [
        "# OOP in Python\n",
        "\n",
        "\n",
        "## Objective\n",
        "- Understand the foundations of OOP\n",
        "- Differentiate functional vs OOP\n",
        "- Properties and methods in OOP\n",
        "\n",
        "## Prerequisite\n",
        "\n",
        "- Functions\n",
        "- Exceptions\n",
        "\n",
        "## What do you need to complete this exercise?\n",
        "\n",
        "You can perform this exercise in any Python IDE, including JupyterLab or Google Colab.\n"
      ],
      "metadata": {
        "id": "2ITy4ycVFXBq"
      }
    },
    {
      "cell_type": "markdown",
      "source": [
        "# 1. Extending Stack class behavior\n",
        "\n",
        "I've showed you recently how to extend Stack possibilities by defining a new class (i.e., a subclass) which retains all inherited traits and adds some new ones.\n",
        "\n",
        "Your task is to extend the Stack class behavior in such a way so that the class is able to count all the elements that are pushed and popped (we assume that counting pops is enough). Use the Stack class I've provided in the code below.\n",
        "\n",
        "Follow the hints:\n",
        "\n",
        "- introduce a property designed to count pop operations and name it in a way which guarantees hiding it;\n",
        "- initialize it to zero inside the constructor;\n",
        "- provide a method which returns the value currently assigned to the counter (name it get_counter()).\n",
        "Complete the code in the editor. Run it to check whether your code outputs 100."
      ],
      "metadata": {
        "id": "uQxH0KO0tsDc"
      }
    },
    {
      "cell_type": "code",
      "source": [
        "class Stack:\n",
        "    def __init__(self):\n",
        "        self.__stk = []\n",
        "\n",
        "    def push(self, val):\n",
        "        self.__stk.append(val)\n",
        "\n",
        "    def pop(self):\n",
        "        val = self.__stk[-1]\n",
        "        del self.__stk[-1]\n",
        "        return val\n",
        "\n",
        "\n",
        "class CountingStack(Stack):\n",
        "    def __init__(self):\n",
        "    #\n",
        "    # Fill the constructor with appropriate actions.\n",
        "    #\n",
        "\n",
        "    def get_counter(self):\n",
        "    #\n",
        "    # Present the counter's current value to the world.\n",
        "    #\n",
        "\n",
        "    def pop(self):\n",
        "    #\n",
        "    # Do pop and update the counter.\n",
        "    #\n",
        "\n",
        "\n",
        "stk = CountingStack()\n",
        "for i in range(100):\n",
        "    stk.push(i)\n",
        "    stk.pop()\n",
        "print(stk.get_counter())\n"
      ],
      "metadata": {
        "id": "rRTflD1C9mjt",
        "outputId": "88801493-0401-4c34-cfc1-e8481d703b6b",
        "colab": {
          "base_uri": "https://localhost:8080/",
          "height": 106
        }
      },
      "execution_count": 2,
      "outputs": [
        {
          "output_type": "error",
          "ename": "IndentationError",
          "evalue": "expected an indented block after function definition on line 15 (<ipython-input-2-a2bab8cfad5d>, line 20)",
          "traceback": [
            "\u001b[0;36m  File \u001b[0;32m\"<ipython-input-2-a2bab8cfad5d>\"\u001b[0;36m, line \u001b[0;32m20\u001b[0m\n\u001b[0;31m    def get_counter(self):\u001b[0m\n\u001b[0m    ^\u001b[0m\n\u001b[0;31mIndentationError\u001b[0m\u001b[0;31m:\u001b[0m expected an indented block after function definition on line 15\n"
          ]
        }
      ]
    },
    {
      "cell_type": "code",
      "source": [
        "class Stack:\n",
        "    def __init__(self):\n",
        "        self.__stk = []\n",
        "\n",
        "    def push(self, val):\n",
        "        self.__stk.append(val)\n",
        "\n",
        "    def pop(self):\n",
        "        val = self.__stk[-1]\n",
        "        del self.__stk[-1]\n",
        "        return val\n",
        "\n",
        "\n",
        "class CountingStack(Stack):\n",
        "    def __init__(self):\n",
        "        super().__init__()\n",
        "        self.__counter = 0\n",
        "\n",
        "    def get_counter(self):\n",
        "        return self.__counter\n",
        "\n",
        "    def pop(self):\n",
        "        self.__counter += 1\n",
        "        return super().pop()\n",
        "\n",
        "\n",
        "stk = CountingStack()\n",
        "for i in range(100):\n",
        "    stk.push(i)\n",
        "    stk.pop()\n",
        "print(stk.get_counter())"
      ],
      "metadata": {
        "id": "yZD6F0eedsTK",
        "outputId": "f6970db2-3158-47bf-a44b-f6c4b876eb43",
        "colab": {
          "base_uri": "https://localhost:8080/"
        }
      },
      "execution_count": 1,
      "outputs": [
        {
          "output_type": "stream",
          "name": "stdout",
          "text": [
            "100\n"
          ]
        }
      ]
    },
    {
      "cell_type": "markdown",
      "source": [
        "# 2a. Implementing a queue class from scratch (Optional - intermediate difficulty)\n",
        "\n",
        "As you already know, a stack is a data structure realizing the LIFO (Last In – First Out) model. It's easy and you've already grown perfectly accustomed to it.\n",
        "\n",
        "Let's try something new now. A queue is a data model characterized by the term FIFO: First In – First Out. Note: a regular queue (line) you know from shops or post offices works exactly in the same way – a customer who came first is served first too.\n",
        "\n",
        "Your task is to implement the Queue class with two basic operations:\n",
        "\n",
        "```put(element)```, which puts an element at end of the queue;\n",
        "```get()```, which takes an element from the front of the queue and returns it as the result (the queue cannot be empty to successfully perform it.)\n",
        "Follow the hints:\n",
        "\n",
        "use a list as your storage (just like we did with the stack)\n",
        "```put()``` should append elements to the beginning of the list, while ```get()``` should remove the elements from the end of the list;\n",
        "define a new exception named QueueError (choose an exception to derive it from) and raise it when ```get()``` tries to operate on an empty list.\n",
        "Complete the code we've provided in the editor. Run it to check whether its output is similar to ours.\n",
        "\n",
        "**Expected output**\n",
        "```\n",
        "1\n",
        "dog\n",
        "False\n",
        "Queue error\n",
        "```"
      ],
      "metadata": {
        "id": "0jkTuRdlA6sk"
      }
    },
    {
      "cell_type": "code",
      "source": [
        "class QueueError(???):  # Choose base class for the new exception.\n",
        "    #\n",
        "    #  Write code here\n",
        "    #\n",
        "\n",
        "\n",
        "class Queue:\n",
        "    def __init__(self):\n",
        "        #\n",
        "        # Write code here\n",
        "        #\n",
        "\n",
        "    def put(self, elem):\n",
        "        #\n",
        "        # Write code here\n",
        "        #\n",
        "\n",
        "    def get(self):\n",
        "        #\n",
        "        # Write code here\n",
        "        #\n",
        "\n",
        "\n",
        "que = Queue()\n",
        "que.put(1)\n",
        "que.put(\"dog\")\n",
        "que.put(False)\n",
        "try:\n",
        "    for i in range(4):\n",
        "        print(que.get())\n",
        "except:\n",
        "    print(\"Queue error\")\n"
      ],
      "metadata": {
        "id": "8ZIVOfAMQt2Z"
      },
      "execution_count": null,
      "outputs": []
    },
    {
      "cell_type": "code",
      "source": [
        "class QueueError(IndexError):\n",
        "    pass\n",
        "class Queue:\n",
        "    def __init__(self):\n",
        "        self.__queue = []\n",
        "    def put(self, elem):\n",
        "        self.__queue.insert(0, elem)\n",
        "    def get(self):\n",
        "        if len(self.__queue) == 0:\n",
        "            raise QueueError(\"Queue is empty\")\n",
        "        return self.__queue.pop()\n",
        "que = Queue()\n",
        "que.put(1)\n",
        "que.put(\"dog\")\n",
        "que.put(False)\n",
        "try:\n",
        "    for i in range(4):\n",
        "        print(que.get())\n",
        "except:\n",
        "    print(\"Queue error\")"
      ],
      "metadata": {
        "id": "M5UBa9Tpersi",
        "outputId": "f88d004c-376a-40f5-ea9b-c7af3efa7ce6",
        "colab": {
          "base_uri": "https://localhost:8080/"
        }
      },
      "execution_count": 3,
      "outputs": [
        {
          "output_type": "stream",
          "name": "stdout",
          "text": [
            "1\n",
            "dog\n",
            "False\n",
            "Queue error\n"
          ]
        }
      ]
    },
    {
      "cell_type": "markdown",
      "source": [
        "# 2b. Extending a Queue class capability in part 2a (Optional - intermediate difficulty)\n",
        "\n",
        "Your task is to slightly extend the Queue class' capabilities. We want it to have a parameterless method that returns True if the queue is empty and False otherwise.\n",
        "\n",
        "Complete the code we've provided in the editor. Run it to check whether it outputs a similar result to ours.\n",
        "\n",
        "Below you can copy the code you used in the previous lab:\n",
        "\n"
      ],
      "metadata": {
        "id": "J6CAWQq0HBv6"
      }
    },
    {
      "cell_type": "code",
      "source": [
        "class QueueError(???):\n",
        "    pass\n",
        "\n",
        "\n",
        "class Queue:\n",
        "    #\n",
        "    # Code from the previous lab.\n",
        "    #\n",
        "\n",
        "\n",
        "class SuperQueue(Queue):\n",
        "    #\n",
        "    # Write new code here.\n",
        "    #\n",
        "\n",
        "\n",
        "que = SuperQueue()\n",
        "que.put(1)\n",
        "que.put(\"dog\")\n",
        "que.put(False)\n",
        "for i in range(4):\n",
        "    if not que.isempty():\n",
        "        print(que.get())\n",
        "    else:\n",
        "        print(\"Queue empty\")"
      ],
      "metadata": {
        "id": "zhseVMcKL-89"
      },
      "execution_count": null,
      "outputs": []
    },
    {
      "cell_type": "code",
      "source": [
        "class QueueError(IndexError):\n",
        "    pass\n",
        "\n",
        "class Queue:\n",
        "    def __init__(self):\n",
        "        self.__queue = []\n",
        "\n",
        "    def put(self, elem):\n",
        "        self.__queue.insert(0, elem)\n",
        "\n",
        "    def get(self):\n",
        "        if len(self.__queue) == 0:\n",
        "            raise QueueError(\"Queue is empty\")\n",
        "        return self.__queue.pop()\n",
        "\n",
        "class SuperQueue(Queue):\n",
        "    def isempty(self):\n",
        "        return len(self._Queue__queue) == 0\n",
        "\n",
        "que = SuperQueue()\n",
        "que.put(1)\n",
        "que.put(\"dog\")\n",
        "que.put(False)\n",
        "for i in range(4):\n",
        "    if not que.isempty():\n",
        "        print(que.get())\n",
        "    else:\n",
        "        print(\"Queue empty\")\n",
        "\n"
      ],
      "metadata": {
        "id": "2_j6JbUgfhic",
        "outputId": "19a488e7-5d74-414a-8953-98e6865f0d2c",
        "colab": {
          "base_uri": "https://localhost:8080/"
        }
      },
      "execution_count": 4,
      "outputs": [
        {
          "output_type": "stream",
          "name": "stdout",
          "text": [
            "1\n",
            "dog\n",
            "False\n",
            "Queue empty\n"
          ]
        }
      ]
    },
    {
      "cell_type": "markdown",
      "source": [
        "# 3. Timer class\n",
        "\n",
        "We need a class able to count seconds. Easy? Not as much as you may think as we're going to have some specific expectations.\n",
        "\n",
        "Read them carefully as the class you're about write will be used to launch rockets carrying international missions to Mars. It's a great responsibility.\n",
        "\n",
        "Your class will be called ```Timer```. Its constructor accepts three arguments representing **hours** (a value from range [0..23] - we will be using the military time), **minutes** (from range [0..59]) and **seconds** (from range [0..59]).\n",
        "\n",
        "Zero is the default value for all of the above parameters. There is no need to perform any validation checks.\n",
        "\n",
        "The class itself should provide the following facilities:\n",
        "\n",
        "- objects of the class should be \"printable\", i.e. they should be able to implicitly convert themselves into strings of the following form: \"hh:mm:ss\", with leading zeros added when any of the values is less than 10;\n",
        "- the class should be equipped with parameterless methods called ```next_second()``` and ```previous_second()```, incrementing the time stored inside objects by +1/-1 second respectively.\n",
        "\n",
        "Use the following hints:\n",
        "\n",
        "- all object's properties should be private;\n",
        "- consider writing a separate function (not method!) to format the time string.\n",
        "\n",
        "Complete the template I've provided in the editor. Run your code and check whether the output looks the same as ours.\n",
        "\n",
        "**Expected output**\n",
        "```\n",
        "23:59:59\n",
        "00:00:00\n",
        "23:59:59\n",
        "```"
      ],
      "metadata": {
        "id": "h7Jc8xH-JEmh"
      }
    },
    {
      "cell_type": "code",
      "source": [
        "class Timer:\n",
        "    def __init__( ??? ):\n",
        "        #\n",
        "        # Write code here\n",
        "        #\n",
        "\n",
        "    def __str__(self):\n",
        "        #\n",
        "        # Write code here\n",
        "        #\n",
        "\n",
        "    def next_second(self):\n",
        "        #\n",
        "        # Write code here\n",
        "        #\n",
        "\n",
        "    def prev_second(self):\n",
        "        #\n",
        "        # Write code here\n",
        "        #\n",
        "\n",
        "\n",
        "timer = Timer(23, 59, 59)\n",
        "print(timer)\n",
        "timer.next_second()\n",
        "print(timer)\n",
        "timer.prev_second()\n",
        "print(timer)\n"
      ],
      "metadata": {
        "id": "Nfv-ATQUKlW2"
      },
      "execution_count": null,
      "outputs": []
    },
    {
      "cell_type": "code",
      "source": [
        "class Timer:\n",
        "    def __init__(self, hours=0, minutes=0, seconds=0):\n",
        "        self.__hours = hours\n",
        "        self.__minutes = minutes\n",
        "        self.__seconds = seconds\n",
        "\n",
        "    def __str__(self):\n",
        "        return f\"{self.__hours:02}:{self.__minutes:02}:{self.__seconds:02}\"\n",
        "\n",
        "    def next_second(self):\n",
        "        self.__seconds += 1\n",
        "        if self.__seconds == 60:\n",
        "            self.__seconds = 0\n",
        "            self.__minutes += 1\n",
        "            if self.__minutes == 60:\n",
        "                self.__minutes = 0\n",
        "                self.__hours += 1\n",
        "                if self.__hours == 24:\n",
        "                    self.__hours = 0\n",
        "\n",
        "    def prev_second(self):\n",
        "        self.__seconds -= 1\n",
        "        if self.__seconds == -1:\n",
        "            self.__seconds = 59\n",
        "            self.__minutes -= 1\n",
        "            if self.__minutes == -1:\n",
        "                self.__minutes = 59\n",
        "                self.__hours -= 1\n",
        "                if self.__hours == -1:\n",
        "                    self.__hours = 23\n",
        "\n",
        "timer = Timer(23, 59, 59)\n",
        "print(timer)\n",
        "timer.next_second()\n",
        "print(timer)\n",
        "timer.prev_second()\n",
        "print(timer)\n"
      ],
      "metadata": {
        "id": "kF3q1eF6f_ew",
        "outputId": "5fd6e242-aa14-4427-a02a-06fd6127f940",
        "colab": {
          "base_uri": "https://localhost:8080/"
        }
      },
      "execution_count": 5,
      "outputs": [
        {
          "output_type": "stream",
          "name": "stdout",
          "text": [
            "23:59:59\n",
            "00:00:00\n",
            "23:59:59\n"
          ]
        }
      ]
    },
    {
      "cell_type": "markdown",
      "source": [
        "# 4. Weeker class\n",
        "\n",
        "Your task is to implement a class called ```Weeker```. Yes, your eyes don't deceive you – this name comes from the fact that objects of that class will be able to store and to manipulate the days of the week.\n",
        "\n",
        "The class constructor accepts one argument – a string. The string represents the name of the day of the week and the only acceptable values must come from the following set:\n",
        "\n",
        "```Mon Tue Wed Thu Fri Sat Sun```\n",
        "\n",
        "Invoking the constructor with an argument from outside this set should raise the ```WeekDayError``` exception. The class should provide the following facilities:\n",
        "\n",
        "objects of the class should be \"printable\", i.e. they should be able to implicitly convert themselves into strings of the same form as the constructor arguments;\n",
        "the class should be equipped with one-parameter methods called ```add_days(n)``` and ```subtract_days(n)```, with ```n``` being an integer number and updating the day of week stored inside the object in the way reflecting the change of date by the indicated number of days, forward or backward.\n",
        "all object's properties should be private;\n",
        "\n",
        "Complete the following template and run your code and check whether your output looks the same as mine.\n"
      ],
      "metadata": {
        "id": "lLeAeQwmSHWL"
      }
    },
    {
      "cell_type": "code",
      "source": [
        "class WeekDayError(Exception):\n",
        "    pass\n",
        "\n",
        "\n",
        "class Weeker:\n",
        "    #\n",
        "    # Write code here.\n",
        "    #\n",
        "\n",
        "    def __init__(self, day):\n",
        "        #\n",
        "        # Write code here.\n",
        "        #\n",
        "\n",
        "    def __str__(self):\n",
        "        #\n",
        "        # Write code here.\n",
        "        #\n",
        "\n",
        "    def add_days(self, n):\n",
        "        #\n",
        "        # Write code here.\n",
        "        #\n",
        "\n",
        "    def subtract_days(self, n):\n",
        "        #\n",
        "        # Write code here.\n",
        "        #\n",
        "\n",
        "\n",
        "try:\n",
        "    weekday = Weeker('Mon')\n",
        "    print(weekday)\n",
        "    weekday.add_days(15)\n",
        "    print(weekday)\n",
        "    weekday.subtract_days(23)\n",
        "    print(weekday)\n",
        "    weekday = Weeker('Monday')\n",
        "except WeekDayError:\n",
        "    print(\"Sorry, I can't serve your request.\")\n"
      ],
      "metadata": {
        "id": "mOhPMsSf_-We"
      },
      "execution_count": null,
      "outputs": []
    },
    {
      "cell_type": "code",
      "source": [
        "class WeekDayError(Exception):\n",
        "    pass\n",
        "\n",
        "\n",
        "class Weeker:\n",
        "    __days = ['Mon', 'Tue', 'Wed', 'Thu', 'Fri', 'Sat', 'Sun']\n",
        "\n",
        "    def __init__(self, day):\n",
        "        if day not in self.__days:\n",
        "            raise WeekDayError(\"Invalid weekday name.\")\n",
        "        self.__current_index = self.__days.index(day)\n",
        "\n",
        "    def __str__(self):\n",
        "        return self.__days[self.__current_index]\n",
        "\n",
        "    def add_days(self, n):\n",
        "        self.__current_index = (self.__current_index + n) % 7\n",
        "\n",
        "    def subtract_days(self, n):\n",
        "        self.__current_index = (self.__current_index - n) % 7\n",
        ""
      ],
      "metadata": {
        "id": "6Mg88cAQgp3u"
      },
      "execution_count": 9,
      "outputs": []
    },
    {
      "cell_type": "markdown",
      "source": [
        "**Expected output**\n",
        "```\n",
        "Mon\n",
        "Tue\n",
        "Sun\n",
        "Sorry, I can't serve your request.\n",
        "```"
      ],
      "metadata": {
        "id": "GJ-IugT5AVT3"
      }
    },
    {
      "cell_type": "markdown",
      "source": [
        "## Challenges\n",
        "\n",
        "Please describe the challenges you faced during the exercise."
      ],
      "metadata": {
        "id": "xQzjxKdvvbyo"
      }
    },
    {
      "cell_type": "markdown",
      "source": [
        "Write your challenges here"
      ],
      "metadata": {
        "id": "qfJNpTB5EbY4"
      }
    }
  ]
}
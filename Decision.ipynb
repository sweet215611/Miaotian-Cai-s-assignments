{
  "nbformat": 4,
  "nbformat_minor": 0,
  "metadata": {
    "colab": {
      "provenance": [],
      "include_colab_link": true
    },
    "kernelspec": {
      "name": "python3",
      "display_name": "Python 3"
    },
    "language_info": {
      "name": "python"
    }
  },
  "cells": [
    {
      "cell_type": "markdown",
      "metadata": {
        "id": "view-in-github",
        "colab_type": "text"
      },
      "source": [
        "<a href=\"https://colab.research.google.com/github/sweet215611/Miaotian-Cai-s-assignments/blob/main/Decision.ipynb\" target=\"_parent\"><img src=\"https://colab.research.google.com/assets/colab-badge.svg\" alt=\"Open In Colab\"/></a>"
      ]
    },
    {
      "cell_type": "markdown",
      "source": [
        "# Decision statements\n",
        "\n",
        "To execute or not to execute—that is the question. I have adapted a Shakespeare quote, originally written as \"To be, or not to be—that is the question.\" Decision statements generally work in a similar way. You evaluate an expression, and if the result is true, you perform a specific action; otherwise, you take a different action.\n",
        "\n",
        "## Objective\n",
        "1. Understand how decision statements are applied in Python\n",
        "2. Apply comparison, logical and bitwise logical operators to evaluate the expression\n",
        "\n",
        "## Prerequisite\n",
        "\n",
        "- Converting binary to decimal and decimal to binary\n",
        "- Decision statements\n",
        "- Input functions\n",
        "- Python literals\n",
        "- Programming variables\n",
        "\n",
        "\n",
        "## What do you need to complete this exercise?\n",
        "\n",
        "You can perform this exercise in any Python IDE, including JupyterLab or Google Colab.\n"
      ],
      "metadata": {
        "id": "2ITy4ycVFXBq"
      }
    },
    {
      "cell_type": "markdown",
      "source": [
        "### 1. Comparison operators\n",
        "\n",
        "Decision statements utilize comparison operators, and based on the True or False result, specific statements are executed."
      ],
      "metadata": {
        "id": "uQxH0KO0tsDc"
      }
    },
    {
      "cell_type": "code",
      "source": [
        "print(2 < 5)  # this gives True"
      ],
      "metadata": {
        "id": "8ZIVOfAMQt2Z",
        "colab": {
          "base_uri": "https://localhost:8080/"
        },
        "outputId": "b1ca2d1b-0675-4c1f-fa08-79ba0b56273c"
      },
      "execution_count": 13,
      "outputs": [
        {
          "output_type": "stream",
          "name": "stdout",
          "text": [
            "True\n"
          ]
        }
      ]
    },
    {
      "cell_type": "code",
      "source": [
        "print(10 <= 10)  # this gives True"
      ],
      "metadata": {
        "id": "cF0UyMIqQ8V3",
        "colab": {
          "base_uri": "https://localhost:8080/"
        },
        "outputId": "e4509f19-bbde-4b71-e82b-bcbae391e11f"
      },
      "execution_count": 14,
      "outputs": [
        {
          "output_type": "stream",
          "name": "stdout",
          "text": [
            "True\n"
          ]
        }
      ]
    },
    {
      "cell_type": "code",
      "source": [
        "x = 10"
      ],
      "metadata": {
        "id": "S5kO371-Q_NL"
      },
      "execution_count": 15,
      "outputs": []
    },
    {
      "cell_type": "code",
      "source": [
        "print(20 < x)  # this gives False"
      ],
      "metadata": {
        "id": "fQr5X9N0RceU",
        "colab": {
          "base_uri": "https://localhost:8080/"
        },
        "outputId": "a5273c35-9377-4b5e-97b0-ef3a8ff76894"
      },
      "execution_count": 16,
      "outputs": [
        {
          "output_type": "stream",
          "name": "stdout",
          "text": [
            "False\n"
          ]
        }
      ]
    },
    {
      "cell_type": "code",
      "source": [
        "print(\"A\" < \"a\")  # this gives True because the ASCII of \"A\" is 65 and \"a\" is 97. The Python interpreter converts the\n",
        "# character in ASCII number and then compare."
      ],
      "metadata": {
        "id": "QacofGe4RdZX",
        "colab": {
          "base_uri": "https://localhost:8080/"
        },
        "outputId": "d8c30b02-93ad-4ed5-9bc3-7d7fa462c3dc"
      },
      "execution_count": 17,
      "outputs": [
        {
          "output_type": "stream",
          "name": "stdout",
          "text": [
            "True\n"
          ]
        }
      ]
    },
    {
      "cell_type": "code",
      "source": [
        "print(\"Monday\" > \"Tuesday\")  # this gives False because the first character of \"Monday\" (M) has a lower ASCII value\n",
        "# as compared to the first character of \"Tuesday\" (T)"
      ],
      "metadata": {
        "id": "5M7ksW8xsC3k",
        "colab": {
          "base_uri": "https://localhost:8080/"
        },
        "outputId": "cf4d8922-8e12-4840-c278-7d17711d0cf7"
      },
      "execution_count": 18,
      "outputs": [
        {
          "output_type": "stream",
          "name": "stdout",
          "text": [
            "False\n"
          ]
        }
      ]
    },
    {
      "cell_type": "markdown",
      "source": [
        "Research and find the ASCII number of all the characters available on the keyboard using Python."
      ],
      "metadata": {
        "id": "oxXvMBKNsX8M"
      }
    },
    {
      "cell_type": "code",
      "source": [
        "import string\n",
        "keyboard_chars = string.printable\n",
        "\n",
        "for char in keyboard_chars:\n",
        "  print(f\"Character: {repr(char)}, ASCII: {ord(char)}\")"
      ],
      "metadata": {
        "id": "w9Ai1I_JsYw9",
        "colab": {
          "base_uri": "https://localhost:8080/"
        },
        "outputId": "9b051569-e586-4f4d-872e-e90f64d9282a"
      },
      "execution_count": 19,
      "outputs": [
        {
          "output_type": "stream",
          "name": "stdout",
          "text": [
            "Character: '0', ASCII: 48\n",
            "Character: '1', ASCII: 49\n",
            "Character: '2', ASCII: 50\n",
            "Character: '3', ASCII: 51\n",
            "Character: '4', ASCII: 52\n",
            "Character: '5', ASCII: 53\n",
            "Character: '6', ASCII: 54\n",
            "Character: '7', ASCII: 55\n",
            "Character: '8', ASCII: 56\n",
            "Character: '9', ASCII: 57\n",
            "Character: 'a', ASCII: 97\n",
            "Character: 'b', ASCII: 98\n",
            "Character: 'c', ASCII: 99\n",
            "Character: 'd', ASCII: 100\n",
            "Character: 'e', ASCII: 101\n",
            "Character: 'f', ASCII: 102\n",
            "Character: 'g', ASCII: 103\n",
            "Character: 'h', ASCII: 104\n",
            "Character: 'i', ASCII: 105\n",
            "Character: 'j', ASCII: 106\n",
            "Character: 'k', ASCII: 107\n",
            "Character: 'l', ASCII: 108\n",
            "Character: 'm', ASCII: 109\n",
            "Character: 'n', ASCII: 110\n",
            "Character: 'o', ASCII: 111\n",
            "Character: 'p', ASCII: 112\n",
            "Character: 'q', ASCII: 113\n",
            "Character: 'r', ASCII: 114\n",
            "Character: 's', ASCII: 115\n",
            "Character: 't', ASCII: 116\n",
            "Character: 'u', ASCII: 117\n",
            "Character: 'v', ASCII: 118\n",
            "Character: 'w', ASCII: 119\n",
            "Character: 'x', ASCII: 120\n",
            "Character: 'y', ASCII: 121\n",
            "Character: 'z', ASCII: 122\n",
            "Character: 'A', ASCII: 65\n",
            "Character: 'B', ASCII: 66\n",
            "Character: 'C', ASCII: 67\n",
            "Character: 'D', ASCII: 68\n",
            "Character: 'E', ASCII: 69\n",
            "Character: 'F', ASCII: 70\n",
            "Character: 'G', ASCII: 71\n",
            "Character: 'H', ASCII: 72\n",
            "Character: 'I', ASCII: 73\n",
            "Character: 'J', ASCII: 74\n",
            "Character: 'K', ASCII: 75\n",
            "Character: 'L', ASCII: 76\n",
            "Character: 'M', ASCII: 77\n",
            "Character: 'N', ASCII: 78\n",
            "Character: 'O', ASCII: 79\n",
            "Character: 'P', ASCII: 80\n",
            "Character: 'Q', ASCII: 81\n",
            "Character: 'R', ASCII: 82\n",
            "Character: 'S', ASCII: 83\n",
            "Character: 'T', ASCII: 84\n",
            "Character: 'U', ASCII: 85\n",
            "Character: 'V', ASCII: 86\n",
            "Character: 'W', ASCII: 87\n",
            "Character: 'X', ASCII: 88\n",
            "Character: 'Y', ASCII: 89\n",
            "Character: 'Z', ASCII: 90\n",
            "Character: '!', ASCII: 33\n",
            "Character: '\"', ASCII: 34\n",
            "Character: '#', ASCII: 35\n",
            "Character: '$', ASCII: 36\n",
            "Character: '%', ASCII: 37\n",
            "Character: '&', ASCII: 38\n",
            "Character: \"'\", ASCII: 39\n",
            "Character: '(', ASCII: 40\n",
            "Character: ')', ASCII: 41\n",
            "Character: '*', ASCII: 42\n",
            "Character: '+', ASCII: 43\n",
            "Character: ',', ASCII: 44\n",
            "Character: '-', ASCII: 45\n",
            "Character: '.', ASCII: 46\n",
            "Character: '/', ASCII: 47\n",
            "Character: ':', ASCII: 58\n",
            "Character: ';', ASCII: 59\n",
            "Character: '<', ASCII: 60\n",
            "Character: '=', ASCII: 61\n",
            "Character: '>', ASCII: 62\n",
            "Character: '?', ASCII: 63\n",
            "Character: '@', ASCII: 64\n",
            "Character: '[', ASCII: 91\n",
            "Character: '\\\\', ASCII: 92\n",
            "Character: ']', ASCII: 93\n",
            "Character: '^', ASCII: 94\n",
            "Character: '_', ASCII: 95\n",
            "Character: '`', ASCII: 96\n",
            "Character: '{', ASCII: 123\n",
            "Character: '|', ASCII: 124\n",
            "Character: '}', ASCII: 125\n",
            "Character: '~', ASCII: 126\n",
            "Character: ' ', ASCII: 32\n",
            "Character: '\\t', ASCII: 9\n",
            "Character: '\\n', ASCII: 10\n",
            "Character: '\\r', ASCII: 13\n",
            "Character: '\\x0b', ASCII: 11\n",
            "Character: '\\x0c', ASCII: 12\n"
          ]
        }
      ]
    },
    {
      "cell_type": "markdown",
      "source": [
        "### 2. Logical operators (and, or, not)\n",
        "\n",
        "> **Do not write logical operators in all uppercase like AND, OR, NOT - Syntax Error**\n",
        "\n",
        "**and logical operator:** Both expression's result need to be True to get the True output.\n",
        "If one expression's result is False, the output will be False regardless of the second expression's result. For example,\n"
      ],
      "metadata": {
        "id": "IeiOBf1Tse1c"
      }
    },
    {
      "cell_type": "code",
      "source": [
        "10 > 4 and 50 < 100  # True and True is True"
      ],
      "metadata": {
        "id": "x3mHyztHSYtd",
        "colab": {
          "base_uri": "https://localhost:8080/"
        },
        "outputId": "7493065e-2cb4-4a11-efe4-b39cd8c27947"
      },
      "execution_count": 20,
      "outputs": [
        {
          "output_type": "execute_result",
          "data": {
            "text/plain": [
              "True"
            ]
          },
          "metadata": {},
          "execution_count": 20
        }
      ]
    },
    {
      "cell_type": "code",
      "source": [
        "10 < 4 and 50 < 100  # Here first expression is False, the output will be False"
      ],
      "metadata": {
        "id": "3cKTn377ScUS",
        "colab": {
          "base_uri": "https://localhost:8080/"
        },
        "outputId": "d1980511-34fd-46f4-872b-4980371d14bf"
      },
      "execution_count": 21,
      "outputs": [
        {
          "output_type": "execute_result",
          "data": {
            "text/plain": [
              "False"
            ]
          },
          "metadata": {},
          "execution_count": 21
        }
      ]
    },
    {
      "cell_type": "markdown",
      "source": [
        "**or logical operator:** Both expression's result need to be False to get the False output.\n",
        "If one expression's result is True, the output will be True regardless of the second expression's result. For example,"
      ],
      "metadata": {
        "id": "1zkqNiyFSgoT"
      }
    },
    {
      "cell_type": "code",
      "source": [
        "10 < 4 or 50 > 100  # False and False is False"
      ],
      "metadata": {
        "id": "dy3FnJs5UEaD",
        "colab": {
          "base_uri": "https://localhost:8080/"
        },
        "outputId": "5472e4c5-9fb5-4543-a566-00e6abc3ed28"
      },
      "execution_count": 22,
      "outputs": [
        {
          "output_type": "execute_result",
          "data": {
            "text/plain": [
              "False"
            ]
          },
          "metadata": {},
          "execution_count": 22
        }
      ]
    },
    {
      "cell_type": "code",
      "source": [
        "not(10 > 4 and 50 > 100)  # Here first expression is True, the output will be True"
      ],
      "metadata": {
        "id": "wy95gdKhUFpw",
        "colab": {
          "base_uri": "https://localhost:8080/"
        },
        "outputId": "3970682b-55eb-43a1-f94b-86263c9ac2cd"
      },
      "execution_count": 23,
      "outputs": [
        {
          "output_type": "execute_result",
          "data": {
            "text/plain": [
              "True"
            ]
          },
          "metadata": {},
          "execution_count": 23
        }
      ]
    },
    {
      "cell_type": "markdown",
      "source": [
        "**not logical operator:** Inverts the result"
      ],
      "metadata": {
        "id": "MECYeRbPUJX3"
      }
    },
    {
      "cell_type": "markdown",
      "source": [],
      "metadata": {
        "id": "WpnaEQIFq5c1"
      }
    },
    {
      "cell_type": "code",
      "source": [
        "not(not(10 > 4))"
      ],
      "metadata": {
        "id": "ILhDuME6ULRI",
        "colab": {
          "base_uri": "https://localhost:8080/"
        },
        "outputId": "d88bc79d-2e3b-48b8-fa14-2bf88882842c"
      },
      "execution_count": 24,
      "outputs": [
        {
          "output_type": "execute_result",
          "data": {
            "text/plain": [
              "True"
            ]
          },
          "metadata": {},
          "execution_count": 24
        }
      ]
    },
    {
      "cell_type": "code",
      "source": [
        "not(10 > 4) # this is False"
      ],
      "metadata": {
        "id": "4cKFmjbLUNJL",
        "colab": {
          "base_uri": "https://localhost:8080/"
        },
        "outputId": "14e149bb-c71f-4d31-ba10-d7dd11f364b3"
      },
      "execution_count": 25,
      "outputs": [
        {
          "output_type": "execute_result",
          "data": {
            "text/plain": [
              "False"
            ]
          },
          "metadata": {},
          "execution_count": 25
        }
      ]
    },
    {
      "cell_type": "markdown",
      "source": [
        "### 3. Bitwise logical operators (and, or, not, xor)\n",
        "**Remember bitwise logical operators operates on bits**\n",
        "To differentiate between logical operators and bitwise logical operators, Python uses distinct symbols for each.\n",
        "\n",
        "| Name of the logical operator | Logical operator in Python | Bitwise logical operator in Python |\n",
        "| ---------------------------- | -------------------------- | ---------------------------------- |\n",
        "| and                          | and                        | &                                  |\n",
        "| or                           | or                         | \\|                                 |\n",
        "| not                          | not                        | ~                                  |\n",
        "| xor                          | -                          | ^                                  |\n",
        "|                              |                 \n",
        "\n",
        "#### Example bitwise or"
      ],
      "metadata": {
        "id": "czSzoaq2UTFT"
      }
    },
    {
      "cell_type": "code",
      "source": [
        "x = 0b1110 # 0b represents binary number, decimal 14"
      ],
      "metadata": {
        "id": "UvjKUqDNUYcB"
      },
      "execution_count": 26,
      "outputs": []
    },
    {
      "cell_type": "code",
      "source": [
        "y = 0b1011 # decimal 11"
      ],
      "metadata": {
        "id": "vtpI8d0eUbnn"
      },
      "execution_count": 27,
      "outputs": []
    },
    {
      "cell_type": "code",
      "source": [
        "result = x | y # Bitwise or, result in decimal format"
      ],
      "metadata": {
        "id": "8m-iUI9TUfHP"
      },
      "execution_count": 28,
      "outputs": []
    },
    {
      "cell_type": "code",
      "source": [
        "print(result)"
      ],
      "metadata": {
        "id": "OT80dv26Ufve",
        "colab": {
          "base_uri": "https://localhost:8080/"
        },
        "outputId": "2be8f754-bc92-4483-b3be-99dce516112b"
      },
      "execution_count": 29,
      "outputs": [
        {
          "output_type": "stream",
          "name": "stdout",
          "text": [
            "15\n"
          ]
        }
      ]
    },
    {
      "cell_type": "code",
      "source": [
        "print(bin(15)) # bin() function converts decimal to binary"
      ],
      "metadata": {
        "id": "rnNhxiGPUi8S",
        "colab": {
          "base_uri": "https://localhost:8080/"
        },
        "outputId": "4fb8decc-1d37-4d35-fe31-0aa23dccf3f9"
      },
      "execution_count": 30,
      "outputs": [
        {
          "output_type": "stream",
          "name": "stdout",
          "text": [
            "0b1111\n"
          ]
        }
      ]
    },
    {
      "cell_type": "code",
      "source": [
        "# Proof\n",
        "# 1110\n",
        "# 1011\n",
        "# ----\n",
        "# 1111"
      ],
      "metadata": {
        "id": "mkvmqn0YU1US"
      },
      "execution_count": 42,
      "outputs": []
    },
    {
      "cell_type": "code",
      "source": [
        "x = 0b1110  # binary for decimal 14\n",
        "y = 0b1011  # binary for decimal 11\n",
        "\n",
        "# Perform bitwise OR operation (|), which gives 1111 in binary or 15 in decimal\n",
        "or_result = x | y\n",
        "print(f\"Bitwise OR: {or_result} (decimal), {bin(or_result)} (binary)\")\n",
        "\n",
        "# Perform bitwise AND operation (&), which gives 1010 in binary or 10 in decimal\n",
        "and_result = x & y\n",
        "print(f\"Bitwise AND: {and_result} (decimal), {bin(and_result)} (binary)\")\n",
        "\n",
        "# Perform bitwise XOR operation (^), which gives 0101 in binary or 5 in decimal\n",
        "xor_result = x ^ y\n",
        "print(f\"Bitwise XOR: {xor_result} (decimal), {bin(xor_result)} (binary)\")\n",
        "\n",
        "# Perform bitwise NOT operation (~), which inverts all the bits (2's complement representation)\n",
        "not_result_x = ~x\n",
        "not_result_y = ~y\n",
        "print(f\"Bitwise NOT (~x): {not_result_x} (decimal), {bin(not_result_x)} (binary)\")\n",
        "print(f\"Bitwise NOT (~y): {not_result_y} (decimal), {bin(not_result_y)} (binary)\")"
      ],
      "metadata": {
        "id": "XUyBMOc4U3ce",
        "colab": {
          "base_uri": "https://localhost:8080/"
        },
        "outputId": "a6071530-5994-42b3-bea1-fbce3ceb9fdd"
      },
      "execution_count": 32,
      "outputs": [
        {
          "output_type": "stream",
          "name": "stdout",
          "text": [
            "Bitwise OR: 15 (decimal), 0b1111 (binary)\n",
            "Bitwise AND: 10 (decimal), 0b1010 (binary)\n",
            "Bitwise XOR: 5 (decimal), 0b101 (binary)\n",
            "Bitwise NOT (~x): -15 (decimal), -0b1111 (binary)\n",
            "Bitwise NOT (~y): -12 (decimal), -0b1100 (binary)\n"
          ]
        }
      ]
    },
    {
      "cell_type": "markdown",
      "source": [
        "### 4. Decision statements\n",
        "\n",
        "#### Find the largest two integers"
      ],
      "metadata": {
        "id": "F1tjoqe6U8VT"
      }
    },
    {
      "cell_type": "code",
      "source": [
        "# Read two numbers\n",
        "number1 = int(input(\"Enter the first number:  \"))\n",
        "number2 = int(input(\"Enter the second number:  \"))\n",
        "\n",
        "# Choose the larger number\n",
        "if (number1 > number2):\n",
        "    larger_number = number1\n",
        "else:\n",
        "    larger_number = number2\n",
        "\n",
        "# Print the result\n",
        "print(\"The larger number is:\", larger_number)\n"
      ],
      "metadata": {
        "id": "5hiwtoXpVDdD",
        "colab": {
          "base_uri": "https://localhost:8080/"
        },
        "outputId": "5db32a11-a64d-4975-80d5-2d5694842edd"
      },
      "execution_count": 33,
      "outputs": [
        {
          "output_type": "stream",
          "name": "stdout",
          "text": [
            "Enter the first number:  40\n",
            "Enter the second number:  50\n",
            "The larger number is: 50\n"
          ]
        }
      ]
    },
    {
      "cell_type": "markdown",
      "source": [
        "#### Nested conditional statements"
      ],
      "metadata": {
        "id": "Sd6Yi7mbVQ0T"
      }
    },
    {
      "cell_type": "code",
      "source": [
        "x = 10\n",
        "\n",
        "if x > 5:  # True\n",
        "    if x == 6:  # False\n",
        "        print(\"nested: x == 6\")\n",
        "    elif x == 10:  # True\n",
        "        print(\"nested: x == 10\")\n",
        "    else:\n",
        "        print(\"nested: else\")\n",
        "else:\n",
        "    print(\"else\")"
      ],
      "metadata": {
        "id": "_j-EFKxRVW9L",
        "colab": {
          "base_uri": "https://localhost:8080/"
        },
        "outputId": "d5fce533-a2ea-4e71-f52b-74fc9a2fd988"
      },
      "execution_count": 34,
      "outputs": [
        {
          "output_type": "stream",
          "name": "stdout",
          "text": [
            "nested: x == 10\n"
          ]
        }
      ]
    },
    {
      "cell_type": "markdown",
      "source": [
        "### 5. Problem-solving\n",
        "\n",
        "a. Find the largest three integers just using ```if``` statements. Take user inputs and display the result."
      ],
      "metadata": {
        "id": "moP3KtMHVcuH"
      }
    },
    {
      "cell_type": "code",
      "source": [
        "num1 = int(input(\"Enter the first number: \"))\n",
        "num2 = int(input(\"Enter the second number: \"))\n",
        "num3 = int(input(\"Enter the third number: \"))\n",
        "\n",
        "largest = num1\n",
        "\n",
        "if num2 > largest:\n",
        "    largest = num2\n",
        "\n",
        "if num3 > largest:\n",
        "    largest = num3\n",
        "\n",
        "\n",
        "print(\"The largest number is:\", largest)"
      ],
      "metadata": {
        "id": "3wtKiCOgVlZI",
        "colab": {
          "base_uri": "https://localhost:8080/"
        },
        "outputId": "1f191399-16ba-44f7-838b-aa68b543e2ef"
      },
      "execution_count": 35,
      "outputs": [
        {
          "output_type": "stream",
          "name": "stdout",
          "text": [
            "Enter the first number: 20\n",
            "Enter the second number: 30\n",
            "Enter the third number: 40\n",
            "The largest number is: 40\n"
          ]
        }
      ]
    },
    {
      "cell_type": "markdown",
      "source": [
        "b. Identify multiple methods to determine if a number is even or odd. The user will input an integer, and the output will indicate whether it's \"odd\" or \"even.\" The code should be organized into sections, with comments separating each part. For example"
      ],
      "metadata": {
        "id": "bNRmk6MpVrdX"
      }
    },
    {
      "cell_type": "code",
      "source": [
        "# Method 1: Using modulus operator (%)\n",
        "def method_1_even_odd(n):\n",
        "    \"\"\"Method 1: Using modulus operator to check even or odd\"\"\"\n",
        "    if n % 2 == 0:\n",
        "        return \"even\"\n",
        "    else:\n",
        "        return \"odd\"\n",
        "\n",
        "# Method 2: Using bitwise AND operator\n",
        "def method_2_even_odd(n):\n",
        "    \"\"\"Method 2: Using bitwise AND operator to check even or odd\"\"\"\n",
        "    if n & 1 == 0:\n",
        "        return \"even\"\n",
        "    else:\n",
        "        return \"odd\""
      ],
      "metadata": {
        "id": "SaTUGktDV0YO"
      },
      "execution_count": 40,
      "outputs": []
    },
    {
      "cell_type": "markdown",
      "source": [
        "c. Implement the grading scheme for the CISC 179 course. The grading scheme as follows:\n",
        "\n",
        "|Grade|Percent|Description\n",
        "|-|-----|-|\n",
        "|A|>90|Work of genuinely superior quality.|\n",
        "|B|80-89|Passing performance falls approximately in the upper distribution of passing grades.|\n",
        "|C|71-79|Passing performance falls approximately in the center of the distribution of all passing grades.|\n",
        "|D|65-70|Passing performance falls approximately in the lower distribution of passing grades.|\n",
        "|F|<65|Failing performance that does not satisfy the basic requirements of the course and needs to be improved in significant ways.|\n",
        "\n",
        "The user inputs a percentage as an integer, and the output displays the corresponding grade along with a description. The logic uses ```if```, ```elif```, and ```else``` statements, with comments to clarify each part."
      ],
      "metadata": {
        "id": "AZFu1-vKNmH-"
      }
    },
    {
      "cell_type": "code",
      "source": [
        "# Function to determine grade and description based on input percentage\n",
        "def grade_scheme(percentage):\n",
        "    \"\"\"This function returns the grade and description based on the given percentage\"\"\"\n",
        "\n",
        "    # Check if the percentage is greater than 90\n",
        "    if percentage > 90:\n",
        "        grade = \"A\"\n",
        "        description = \"Work of genuinely superior quality.\"\n",
        "    # Check if the percentage is between 80 and 89\n",
        "    elif 80 <= percentage <= 89:\n",
        "        grade = \"B\"\n",
        "        description = \"Passing performance falls approximately in the upper distribution of passing grades.\"\n",
        "    # Check if the percentage is between 71 and 79\n",
        "    elif 71 <= percentage <= 79:\n",
        "        grade = \"C\"\n",
        "        description = \"Passing performance falls approximately in the center of the distribution of all passing grades.\"\n",
        "    # Check if the percentage is between 65 and 70\n",
        "    elif 65 <= percentage <= 70:\n",
        "        grade = \"D\"\n",
        "        description = \"Passing performance falls approximately in the lower distribution of passing grades.\"\n",
        "    # If the percentage is less than 65, it's a fail\n",
        "    else:\n",
        "        grade = \"F\"\n",
        "        description = \"Failing performance that does not satisfy the basic requirements of the course and needs to be improved in significant ways.\"\n",
        "\n",
        "    # Return the grade and description\n",
        "    return grade, description\n",
        "\n",
        "# Main function to get user input and display the corresponding grade and description\n",
        "def main():\n",
        "    try:\n",
        "        # Get the percentage as input from the user\n",
        "        percentage = int(input(\"Enter your percentage: \"))\n",
        "\n",
        "        # Ensure the percentage is between 0 and 100\n",
        "        if 0 <= percentage <= 100:\n",
        "            # Call the grade_scheme function to determine the grade and description\n",
        "            grade, description = grade_scheme(percentage)\n",
        "            # Output the result\n",
        "            print(f\"Your grade is: {grade}\")\n",
        "            print(f\"Description: {description}\")\n",
        "        else:\n",
        "            print(\"Invalid input! Please enter a percentage between 0 and 100.\")\n",
        "\n",
        "    except ValueError:\n",
        "        print(\"Invalid input! Please enter a valid integer for the percentage.\")\n",
        "\n",
        "# Run the program\n",
        "if __name__ == \"__main__\":\n",
        "    main()"
      ],
      "metadata": {
        "id": "9Sov9YAPNxbW",
        "colab": {
          "base_uri": "https://localhost:8080/"
        },
        "outputId": "9f613ae3-6174-4685-87b1-7352416947c9"
      },
      "execution_count": 39,
      "outputs": [
        {
          "output_type": "stream",
          "name": "stdout",
          "text": [
            "Enter your percentage: 80\n",
            "Your grade is: B\n",
            "Description: Passing performance falls approximately in the upper distribution of passing grades.\n"
          ]
        }
      ]
    },
    {
      "cell_type": "markdown",
      "source": [
        "d. Write a code which takes ```and```, ```or```, ```not``` as an user input. Create a truth table by writing your expressions. Display the truth table using ```print()``` function. Research how the truth tables for logical operators are structured."
      ],
      "metadata": {
        "id": "s1QT0aCiN0I-"
      }
    },
    {
      "cell_type": "code",
      "source": [
        "operator = input(\"Enter a logical operator (and, or, not): \").strip().lower()\n",
        "\n",
        "# Function to generate and print the truth table\n",
        "def truth_table(operator):\n",
        "    # Possible truth values\n",
        "    truth_values = [True, False]\n",
        "\n",
        "    if operator == \"and\":\n",
        "        print(\"A\\tB\\tA and B\")\n",
        "        for A in truth_values:\n",
        "            for B in truth_values:\n",
        "                print(f\"{A}\\t{B}\\t{A and B}\")\n",
        "\n",
        "    elif operator == \"or\":\n",
        "        print(\"A\\tB\\tA or B\")\n",
        "        for A in truth_values:\n",
        "            for B in truth_values:\n",
        "                print(f\"{A}\\t{B}\\t{A or B}\")\n",
        "\n",
        "    elif operator == \"not\":\n",
        "        print(\"A\\tnot A\")\n",
        "        for A in truth_values:\n",
        "            print(f\"{A}\\t{not A}\")\n",
        "\n",
        "    else:\n",
        "        print(\"Invalid operator entered! Please use 'and', 'or', or 'not'.\")\n",
        "\n",
        "\n",
        "truth_table(operator)"
      ],
      "metadata": {
        "id": "c0nmbAaIN6Wy",
        "colab": {
          "base_uri": "https://localhost:8080/"
        },
        "outputId": "4cfd9b79-fc3c-456c-9794-9fbe77c1fa5c"
      },
      "execution_count": 43,
      "outputs": [
        {
          "output_type": "stream",
          "name": "stdout",
          "text": [
            "Enter a logical operator (and, or, not): or\n",
            "A\tB\tA or B\n",
            "True\tTrue\tTrue\n",
            "True\tFalse\tTrue\n",
            "False\tTrue\tTrue\n",
            "False\tFalse\tFalse\n"
          ]
        }
      ]
    },
    {
      "cell_type": "markdown",
      "source": [
        "e. To determine whether an integer is even or odd using only a bitwise AND operator. The user will input an integer. Your code should utilize the bitwise AND operator to differentiate between even and odd numbers. Finally, use the print() function to display the result. Avoid using any modulus or remainder operators."
      ],
      "metadata": {
        "id": "N_T7SitKN8js"
      }
    },
    {
      "cell_type": "code",
      "source": [
        "num = int(input(\"Enter an integer: \"))\n",
        "\n",
        "# Use the bitwise AND operator to check the least significant bit\n",
        "if num & 1:\n",
        "    print(f\"{num} is odd\")\n",
        "else:\n",
        "    print(f\"{num} is even\")"
      ],
      "metadata": {
        "id": "4OWqwOyZN_rh",
        "colab": {
          "base_uri": "https://localhost:8080/"
        },
        "outputId": "7ec4bb15-86d4-4935-b629-95fc221db97b"
      },
      "execution_count": null,
      "outputs": [
        {
          "output_type": "stream",
          "name": "stdout",
          "text": [
            "Enter an integer: 3\n",
            "3 is odd\n"
          ]
        }
      ]
    },
    {
      "cell_type": "markdown",
      "source": [
        "### 6. Code revision\n",
        "Revise the code using **nested** ```if```, ```elif```, and ```else``` statements, and add comments to clarify the logic.\n",
        "```\n",
        "name = input(\"What's your name? \")\n",
        "time = int(input(\"What time is it? \"))\n",
        "\n",
        "if (time < 1200):\n",
        "    print(\"Hi \"+name + \", good morning!\")\n",
        "if (time < 1800):\n",
        "    print(\"Hi \"+name + \", good afternoon!\")\n",
        "if (time > 1800):\n",
        "    print(\"Hi \"+name + \", good evening!\")\n",
        "\n",
        "print(\"Good Bye\")\n",
        "```"
      ],
      "metadata": {
        "id": "zdv5pLLOPBBt"
      }
    },
    {
      "cell_type": "code",
      "source": [
        "name = input(\"What's your name? \")\n",
        "\n",
        "\n",
        "time = int(input(\"What time is it? \"))\n",
        "\n",
        "\n",
        "if time < 1200:\n",
        "\n",
        "    print(\"Hi \" + name + \", good morning!\")\n",
        "elif time < 1800:\n",
        "\n",
        "    print(\"Hi \" + name + \", good afternoon!\")\n",
        "else:\n",
        "\n",
        "    print(\"Hi \" + name + \", good evening!\")\n",
        "\n",
        "print(\"Good Bye\")"
      ],
      "metadata": {
        "id": "nwi9yMjyPHok",
        "colab": {
          "base_uri": "https://localhost:8080/"
        },
        "outputId": "1fe6d858-3434-43f7-c2ce-ba6120deb639"
      },
      "execution_count": 53,
      "outputs": [
        {
          "output_type": "stream",
          "name": "stdout",
          "text": [
            "What's your name? sweet\n",
            "What time is it? 8\n",
            "Hi sweet, good morning!\n",
            "Good Bye\n"
          ]
        }
      ]
    },
    {
      "cell_type": "markdown",
      "source": [
        "### 7. Output verification\n",
        "What will be the output of the code provided below **without using Python**?\n",
        "```python\n",
        "x = 1\n",
        "y = 1.0\n",
        "z = \"1\"\n",
        "\n",
        "if x == y:\n",
        "    print(\"one\")\n",
        "if y == int(z):\n",
        "    print(\"two\")\n",
        "elif x == y:\n",
        "    print(\"three\")\n",
        "else:\n",
        "    print(\"four\")\n",
        "```\n",
        "Please execute the code provided above in Python to confirm your result.\n",
        "```\n",
        "one\n",
        "two\n",
        "```"
      ],
      "metadata": {
        "id": "ul0eL03uPt_P"
      }
    },
    {
      "cell_type": "code",
      "source": [
        "x = 1\n",
        "y = 1.0\n",
        "z = \"1\"\n",
        "\n",
        "if x == y:\n",
        "    print(\"one\")\n",
        "if y == int(z):\n",
        "    print(\"two\")\n",
        "elif x == y:\n",
        "    print(\"three\")\n",
        "else:\n",
        "    print(\"four\")"
      ],
      "metadata": {
        "id": "Rr4lTEWbP0ow",
        "colab": {
          "base_uri": "https://localhost:8080/"
        },
        "outputId": "eb69ecb9-6e8b-46b3-9f8e-89279edf639f"
      },
      "execution_count": 54,
      "outputs": [
        {
          "output_type": "stream",
          "name": "stdout",
          "text": [
            "one\n",
            "two\n"
          ]
        }
      ]
    },
    {
      "cell_type": "markdown",
      "source": [
        "## Challenges\n",
        "\n",
        "Please describe the challenges you faced during the exercise."
      ],
      "metadata": {
        "id": "xQzjxKdvvbyo"
      }
    },
    {
      "cell_type": "markdown",
      "source": [
        "It felt easier since all I had to do was input a lot of the info. But I feel like I'm getting the hang of it, maybe if I had more practice in terms of doing the actual code it would've sticked with me more. It seems like the written code is very advanced for me to understand. Maybe the more I practice the more I'll be able to conceptualize and eventually write as complicated a code as these. The bitwise is one of the things that I am very confused about though so if you could touch more on these that would be very helpful. More specifially how did you get into the binary of decimal 14 and decimal 11? Thank you!"
      ],
      "metadata": {
        "id": "qfJNpTB5EbY4"
      }
    },
    {
      "cell_type": "markdown",
      "source": [
        "I can understand the code written by the professor, but I think if I have to write it myself, it might be quite difficult."
      ],
      "metadata": {
        "id": "IY3kDKCsWIL6"
      }
    }
  ]
}